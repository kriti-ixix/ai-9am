{
 "cells": [
  {
   "cell_type": "code",
   "execution_count": 1,
   "id": "a37a0944",
   "metadata": {},
   "outputs": [],
   "source": [
    "import numpy as np\n",
    "import pandas as pd\n",
    "import matplotlib.pyplot as plt\n",
    "import seaborn as sns"
   ]
  },
  {
   "cell_type": "code",
   "execution_count": 2,
   "id": "28395243",
   "metadata": {},
   "outputs": [
    {
     "data": {
      "text/html": [
       "<div>\n",
       "<style scoped>\n",
       "    .dataframe tbody tr th:only-of-type {\n",
       "        vertical-align: middle;\n",
       "    }\n",
       "\n",
       "    .dataframe tbody tr th {\n",
       "        vertical-align: top;\n",
       "    }\n",
       "\n",
       "    .dataframe thead th {\n",
       "        text-align: right;\n",
       "    }\n",
       "</style>\n",
       "<table border=\"1\" class=\"dataframe\">\n",
       "  <thead>\n",
       "    <tr style=\"text-align: right;\">\n",
       "      <th></th>\n",
       "      <th>Pregnancies</th>\n",
       "      <th>Glucose</th>\n",
       "      <th>BloodPressure</th>\n",
       "      <th>SkinThickness</th>\n",
       "      <th>Insulin</th>\n",
       "      <th>BMI</th>\n",
       "      <th>DiabetesPedigreeFunction</th>\n",
       "      <th>Age</th>\n",
       "      <th>Outcome</th>\n",
       "    </tr>\n",
       "  </thead>\n",
       "  <tbody>\n",
       "    <tr>\n",
       "      <th>0</th>\n",
       "      <td>6</td>\n",
       "      <td>148</td>\n",
       "      <td>72</td>\n",
       "      <td>35</td>\n",
       "      <td>0</td>\n",
       "      <td>33.6</td>\n",
       "      <td>0.627</td>\n",
       "      <td>50</td>\n",
       "      <td>1</td>\n",
       "    </tr>\n",
       "    <tr>\n",
       "      <th>1</th>\n",
       "      <td>1</td>\n",
       "      <td>85</td>\n",
       "      <td>66</td>\n",
       "      <td>29</td>\n",
       "      <td>0</td>\n",
       "      <td>26.6</td>\n",
       "      <td>0.351</td>\n",
       "      <td>31</td>\n",
       "      <td>0</td>\n",
       "    </tr>\n",
       "    <tr>\n",
       "      <th>2</th>\n",
       "      <td>8</td>\n",
       "      <td>183</td>\n",
       "      <td>64</td>\n",
       "      <td>0</td>\n",
       "      <td>0</td>\n",
       "      <td>23.3</td>\n",
       "      <td>0.672</td>\n",
       "      <td>32</td>\n",
       "      <td>1</td>\n",
       "    </tr>\n",
       "    <tr>\n",
       "      <th>3</th>\n",
       "      <td>1</td>\n",
       "      <td>89</td>\n",
       "      <td>66</td>\n",
       "      <td>23</td>\n",
       "      <td>94</td>\n",
       "      <td>28.1</td>\n",
       "      <td>0.167</td>\n",
       "      <td>21</td>\n",
       "      <td>0</td>\n",
       "    </tr>\n",
       "    <tr>\n",
       "      <th>4</th>\n",
       "      <td>0</td>\n",
       "      <td>137</td>\n",
       "      <td>40</td>\n",
       "      <td>35</td>\n",
       "      <td>168</td>\n",
       "      <td>43.1</td>\n",
       "      <td>2.288</td>\n",
       "      <td>33</td>\n",
       "      <td>1</td>\n",
       "    </tr>\n",
       "  </tbody>\n",
       "</table>\n",
       "</div>"
      ],
      "text/plain": [
       "   Pregnancies  Glucose  BloodPressure  SkinThickness  Insulin   BMI  \\\n",
       "0            6      148             72             35        0  33.6   \n",
       "1            1       85             66             29        0  26.6   \n",
       "2            8      183             64              0        0  23.3   \n",
       "3            1       89             66             23       94  28.1   \n",
       "4            0      137             40             35      168  43.1   \n",
       "\n",
       "   DiabetesPedigreeFunction  Age  Outcome  \n",
       "0                     0.627   50        1  \n",
       "1                     0.351   31        0  \n",
       "2                     0.672   32        1  \n",
       "3                     0.167   21        0  \n",
       "4                     2.288   33        1  "
      ]
     },
     "execution_count": 2,
     "metadata": {},
     "output_type": "execute_result"
    }
   ],
   "source": [
    "df = pd.read_csv('diabetes.csv')\n",
    "df.head()"
   ]
  },
  {
   "cell_type": "code",
   "execution_count": 3,
   "id": "c9b80247",
   "metadata": {},
   "outputs": [
    {
     "name": "stdout",
     "output_type": "stream",
     "text": [
      "<class 'pandas.core.frame.DataFrame'>\n",
      "RangeIndex: 768 entries, 0 to 767\n",
      "Data columns (total 9 columns):\n",
      " #   Column                    Non-Null Count  Dtype  \n",
      "---  ------                    --------------  -----  \n",
      " 0   Pregnancies               768 non-null    int64  \n",
      " 1   Glucose                   768 non-null    int64  \n",
      " 2   BloodPressure             768 non-null    int64  \n",
      " 3   SkinThickness             768 non-null    int64  \n",
      " 4   Insulin                   768 non-null    int64  \n",
      " 5   BMI                       768 non-null    float64\n",
      " 6   DiabetesPedigreeFunction  768 non-null    float64\n",
      " 7   Age                       768 non-null    int64  \n",
      " 8   Outcome                   768 non-null    int64  \n",
      "dtypes: float64(2), int64(7)\n",
      "memory usage: 54.1 KB\n"
     ]
    }
   ],
   "source": [
    "df.info()"
   ]
  },
  {
   "cell_type": "code",
   "execution_count": 5,
   "id": "c3cd31aa",
   "metadata": {},
   "outputs": [
    {
     "data": {
      "text/plain": [
       "Pregnancies                 111\n",
       "Glucose                       5\n",
       "BloodPressure                35\n",
       "SkinThickness               227\n",
       "Insulin                     374\n",
       "BMI                          11\n",
       "DiabetesPedigreeFunction      0\n",
       "Age                           0\n",
       "Outcome                     500\n",
       "dtype: int64"
      ]
     },
     "execution_count": 5,
     "metadata": {},
     "output_type": "execute_result"
    }
   ],
   "source": [
    "df.eq(0).sum()"
   ]
  },
  {
   "cell_type": "code",
   "execution_count": 6,
   "id": "76d96c64",
   "metadata": {},
   "outputs": [
    {
     "data": {
      "text/plain": [
       "Index(['Pregnancies', 'Glucose', 'BloodPressure', 'SkinThickness', 'Insulin',\n",
       "       'BMI', 'DiabetesPedigreeFunction', 'Age', 'Outcome'],\n",
       "      dtype='object')"
      ]
     },
     "execution_count": 6,
     "metadata": {},
     "output_type": "execute_result"
    }
   ],
   "source": [
    "df.columns"
   ]
  },
  {
   "cell_type": "code",
   "execution_count": 8,
   "id": "f2d18d53",
   "metadata": {},
   "outputs": [],
   "source": [
    "df[['Glucose', 'BloodPressure', 'SkinThickness', 'Insulin','BMI']] = \\\n",
    "df[['Glucose', 'BloodPressure', 'SkinThickness', 'Insulin','BMI']].replace(0, np.nan)"
   ]
  },
  {
   "cell_type": "code",
   "execution_count": 9,
   "id": "be3e51c3",
   "metadata": {},
   "outputs": [
    {
     "data": {
      "text/plain": [
       "<AxesSubplot:>"
      ]
     },
     "execution_count": 9,
     "metadata": {},
     "output_type": "execute_result"
    },
    {
     "data": {
      "image/png": "[encoded data removed]",
      "text/plain": [
       "<Figure size 432x288 with 2 Axes>"
      ]
     },
     "metadata": {
      "needs_background": "light"
     },
     "output_type": "display_data"
    }
   ],
   "source": [
    "sns.heatmap(df.isnull())"
   ]
  },
  {
   "cell_type": "code",
   "execution_count": 11,
   "id": "742e4380",
   "metadata": {},
   "outputs": [],
   "source": [
    "df.fillna(df.mean(), inplace=True)"
   ]
  },
  {
   "cell_type": "code",
   "execution_count": 12,
   "id": "7049b7d9",
   "metadata": {},
   "outputs": [
    {
     "data": {
      "text/plain": [
       "<AxesSubplot:>"
      ]
     },
     "execution_count": 12,
     "metadata": {},
     "output_type": "execute_result"
    },
    {
     "data": {
      "image/png": "[encoded data removed]",
      "text/plain": [
       "<Figure size 432x288 with 2 Axes>"
      ]
     },
     "metadata": {
      "needs_background": "light"
     },
     "output_type": "display_data"
    }
   ],
   "source": [
    "sns.heatmap(df.isnull())"
   ]
  },
  {
   "cell_type": "code",
   "execution_count": 13,
   "id": "ffc67398",
   "metadata": {},
   "outputs": [
    {
     "data": {
      "text/plain": [
       "Pregnancies                 111\n",
       "Glucose                       0\n",
       "BloodPressure                 0\n",
       "SkinThickness                 0\n",
       "Insulin                       0\n",
       "BMI                           0\n",
       "DiabetesPedigreeFunction      0\n",
       "Age                           0\n",
       "Outcome                     500\n",
       "dtype: int64"
      ]
     },
     "execution_count": 13,
     "metadata": {},
     "output_type": "execute_result"
    }
   ],
   "source": [
    "df.eq(0).sum()"
   ]
  },
  {
   "cell_type": "code",
   "execution_count": 29,
   "id": "2f9b4102",
   "metadata": {},
   "outputs": [
    {
     "data": {
      "text/plain": [
       "Outcome                     1.000000\n",
       "Glucose                     0.492928\n",
       "BMI                         0.311924\n",
       "Age                         0.238356\n",
       "Pregnancies                 0.221898\n",
       "SkinThickness               0.215299\n",
       "Insulin                     0.214411\n",
       "DiabetesPedigreeFunction    0.173844\n",
       "BloodPressure               0.166074\n",
       "Name: Outcome, dtype: float64"
      ]
     },
     "execution_count": 29,
     "metadata": {},
     "output_type": "execute_result"
    }
   ],
   "source": [
    "df.corr()['Outcome'].sort_values(ascending=False)"
   ]
  },
  {
   "cell_type": "code",
   "execution_count": 18,
   "id": "b6b85f84",
   "metadata": {},
   "outputs": [
    {
     "data": {
      "text/plain": [
       "<AxesSubplot:>"
      ]
     },
     "execution_count": 18,
     "metadata": {},
     "output_type": "execute_result"
    },
    {
     "data": {
      "image/png": "[encoded data removed]",
      "text/plain": [
       "<Figure size 576x432 with 2 Axes>"
      ]
     },
     "metadata": {
      "needs_background": "light"
     },
     "output_type": "display_data"
    }
   ],
   "source": [
    "plt.figure(figsize=(8, 6))\n",
    "sns.heatmap(df.corr(), annot=True)"
   ]
  },
  {
   "cell_type": "code",
   "execution_count": 20,
   "id": "9f7f4a33",
   "metadata": {},
   "outputs": [],
   "source": [
    "X = df[['Glucose', 'BMI', 'Age']]\n",
    "y = df['Outcome']"
   ]
  },
  {
   "cell_type": "code",
   "execution_count": 21,
   "id": "7711e98f",
   "metadata": {},
   "outputs": [],
   "source": [
    "from sklearn.model_selection import train_test_split"
   ]
  },
  {
   "cell_type": "code",
   "execution_count": 22,
   "id": "56e2f26c",
   "metadata": {},
   "outputs": [],
   "source": [
    "X_train, X_test, y_train, y_test = train_test_split(X, y, test_size=0.33)"
   ]
  },
  {
   "cell_type": "code",
   "execution_count": 23,
   "id": "bf66b964",
   "metadata": {},
   "outputs": [],
   "source": [
    "from sklearn.neighbors import KNeighborsClassifier"
   ]
  },
  {
   "cell_type": "code",
   "execution_count": 24,
   "id": "784928a2",
   "metadata": {},
   "outputs": [],
   "source": [
    "knn = KNeighborsClassifier(7)"
   ]
  },
  {
   "cell_type": "code",
   "execution_count": 25,
   "id": "0e68fb31",
   "metadata": {},
   "outputs": [
    {
     "data": {
      "text/plain": [
       "KNeighborsClassifier(n_neighbors=7)"
      ]
     },
     "execution_count": 25,
     "metadata": {},
     "output_type": "execute_result"
    }
   ],
   "source": [
    "knn.fit(X_train, y_train)"
   ]
  },
  {
   "cell_type": "code",
   "execution_count": 26,
   "id": "2f79009d",
   "metadata": {},
   "outputs": [],
   "source": [
    "predictions = knn.predict(X_test)"
   ]
  },
  {
   "cell_type": "code",
   "execution_count": 27,
   "id": "b8bed5f2",
   "metadata": {},
   "outputs": [],
   "source": [
    "from sklearn.metrics import classification_report"
   ]
  },
  {
   "cell_type": "code",
   "execution_count": 28,
   "id": "993c3680",
   "metadata": {},
   "outputs": [
    {
     "name": "stdout",
     "output_type": "stream",
     "text": [
      "              precision    recall  f1-score   support\n",
      "\n",
      "           0       0.78      0.79      0.79       165\n",
      "           1       0.61      0.60      0.60        89\n",
      "\n",
      "    accuracy                           0.72       254\n",
      "   macro avg       0.70      0.69      0.70       254\n",
      "weighted avg       0.72      0.72      0.72       254\n",
      "\n"
     ]
    }
   ],
   "source": [
    "print(classification_report(y_test, predictions))"
   ]
  },
  {
   "cell_type": "code",
   "execution_count": 30,
   "id": "8e39382a",
   "metadata": {},
   "outputs": [
    {
     "data": {
      "text/plain": [
       "(768, 9)"
      ]
     },
     "execution_count": 30,
     "metadata": {},
     "output_type": "execute_result"
    }
   ],
   "source": [
    "df.shape"
   ]
  },
  {
   "cell_type": "code",
   "execution_count": 31,
   "id": "504bfabe",
   "metadata": {},
   "outputs": [
    {
     "data": {
      "text/plain": [
       "153.6"
      ]
     },
     "execution_count": 31,
     "metadata": {},
     "output_type": "execute_result"
    }
   ],
   "source": [
    "768/5"
   ]
  },
  {
   "cell_type": "code",
   "execution_count": 32,
   "id": "e904e69a",
   "metadata": {},
   "outputs": [
    {
     "data": {
      "text/plain": [
       "612"
      ]
     },
     "execution_count": 32,
     "metadata": {},
     "output_type": "execute_result"
    }
   ],
   "source": [
    "153*4"
   ]
  },
  {
   "cell_type": "code",
   "execution_count": 35,
   "id": "22954765",
   "metadata": {},
   "outputs": [],
   "source": [
    "from sklearn.model_selection import cross_val_score"
   ]
  },
  {
   "cell_type": "code",
   "execution_count": 38,
   "id": "2e9b48b8",
   "metadata": {},
   "outputs": [],
   "source": [
    "ks = list(range(1, 600, 2))"
   ]
  },
  {
   "cell_type": "code",
   "execution_count": 39,
   "id": "07d0ff6c",
   "metadata": {},
   "outputs": [],
   "source": [
    "scores = []"
   ]
  },
  {
   "cell_type": "code",
   "execution_count": 40,
   "id": "15b7992d",
   "metadata": {
    "scrolled": true
   },
   "outputs": [
    {
     "name": "stdout",
     "output_type": "stream",
     "text": [
      "1 neighbours accuracy: 0.6784059078176725\n",
      "3 neighbours accuracy: 0.71883541295306\n",
      "5 neighbours accuracy: 0.7396400984636278\n",
      "7 neighbours accuracy: 0.7526695526695526\n",
      "9 neighbours accuracy: 0.7565486800780918\n",
      "11 neighbours accuracy: 0.7604872251931075\n",
      "13 neighbours accuracy: 0.7565571683218743\n",
      "15 neighbours accuracy: 0.7630846277905101\n",
      "17 neighbours accuracy: 0.7630761395467278\n",
      "19 neighbours accuracy: 0.7708768355827178\n",
      "21 neighbours accuracy: 0.7682964094728799\n",
      "23 neighbours accuracy: 0.7643918173329938\n",
      "25 neighbours accuracy: 0.7617774382480265\n",
      "27 neighbours accuracy: 0.7644003055767762\n",
      "29 neighbours accuracy: 0.7669977081741788\n",
      "31 neighbours accuracy: 0.7617859264918089\n",
      "33 neighbours accuracy: 0.7656735421441304\n",
      "35 neighbours accuracy: 0.7604787369493252\n",
      "37 neighbours accuracy: 0.7605042016806722\n",
      "39 neighbours accuracy: 0.7644003055767762\n",
      "41 neighbours accuracy: 0.7644172820643409\n",
      "43 neighbours accuracy: 0.756574144809439\n",
      "45 neighbours accuracy: 0.7578983108394872\n",
      "47 neighbours accuracy: 0.7565911212970036\n",
      "49 neighbours accuracy: 0.7552924199983023\n",
      "51 neighbours accuracy: 0.7592224768695356\n",
      "53 neighbours accuracy: 0.755309396485867\n",
      "55 neighbours accuracy: 0.7579152873270519\n",
      "57 neighbours accuracy: 0.7618113912231559\n",
      "59 neighbours accuracy: 0.7566080977845683\n",
      "61 neighbours accuracy: 0.752703505644682\n",
      "63 neighbours accuracy: 0.756599609540786\n",
      "65 neighbours accuracy: 0.756599609540786\n",
      "67 neighbours accuracy: 0.7605042016806722\n",
      "69 neighbours accuracy: 0.7578983108394872\n",
      "71 neighbours accuracy: 0.7552924199983023\n",
      "73 neighbours accuracy: 0.7592055003819709\n",
      "75 neighbours accuracy: 0.7578898225957049\n",
      "77 neighbours accuracy: 0.7591970121381886\n",
      "79 neighbours accuracy: 0.753993718699601\n",
      "81 neighbours accuracy: 0.7474747474747476\n",
      "83 neighbours accuracy: 0.7539852304558187\n",
      "85 neighbours accuracy: 0.7487819370172311\n",
      "87 neighbours accuracy: 0.752678040913335\n",
      "89 neighbours accuracy: 0.7500806383159324\n",
      "91 neighbours accuracy: 0.7526950174008997\n",
      "93 neighbours accuracy: 0.7513878278584161\n",
      "95 neighbours accuracy: 0.7487904252610134\n",
      "97 neighbours accuracy: 0.7487989135047959\n",
      "99 neighbours accuracy: 0.750097614803497\n",
      "101 neighbours accuracy: 0.752703505644682\n",
      "103 neighbours accuracy: 0.7540106951871657\n",
      "105 neighbours accuracy: 0.7513963161021984\n",
      "107 neighbours accuracy: 0.7513878278584161\n",
      "109 neighbours accuracy: 0.7513963161021984\n",
      "111 neighbours accuracy: 0.7526950174008997\n",
      "113 neighbours accuracy: 0.755309396485867\n",
      "115 neighbours accuracy: 0.752703505644682\n",
      "117 neighbours accuracy: 0.7566165860283507\n",
      "119 neighbours accuracy: 0.7605126899244545\n",
      "121 neighbours accuracy: 0.7605042016806722\n",
      "123 neighbours accuracy: 0.7592055003819709\n",
      "125 neighbours accuracy: 0.7578983108394872\n",
      "127 neighbours accuracy: 0.7565911212970036\n",
      "129 neighbours accuracy: 0.75007215007215\n",
      "131 neighbours accuracy: 0.7448773448773448\n",
      "133 neighbours accuracy: 0.746176046176046\n",
      "135 neighbours accuracy: 0.7474917239623122\n",
      "137 neighbours accuracy: 0.7501061030472795\n",
      "139 neighbours accuracy: 0.7474747474747474\n",
      "141 neighbours accuracy: 0.75007215007215\n",
      "143 neighbours accuracy: 0.7540022069433834\n",
      "145 neighbours accuracy: 0.7553009082420846\n",
      "147 neighbours accuracy: 0.7579067990832696\n",
      "149 neighbours accuracy: 0.7579067990832696\n",
      "151 neighbours accuracy: 0.7553009082420846\n",
      "153 neighbours accuracy: 0.7540022069433834\n",
      "155 neighbours accuracy: 0.7540022069433834\n",
      "157 neighbours accuracy: 0.7553009082420846\n",
      "159 neighbours accuracy: 0.756599609540786\n",
      "161 neighbours accuracy: 0.753993718699601\n",
      "163 neighbours accuracy: 0.7513878278584161\n",
      "165 neighbours accuracy: 0.7513878278584161\n",
      "167 neighbours accuracy: 0.75007215007215\n",
      "169 neighbours accuracy: 0.7474832357185297\n",
      "171 neighbours accuracy: 0.746176046176046\n",
      "173 neighbours accuracy: 0.7461845344198285\n",
      "175 neighbours accuracy: 0.7487819370172311\n",
      "177 neighbours accuracy: 0.750097614803497\n",
      "179 neighbours accuracy: 0.7500891265597147\n",
      "181 neighbours accuracy: 0.7513878278584161\n",
      "183 neighbours accuracy: 0.7500806383159324\n",
      "185 neighbours accuracy: 0.7461845344198286\n",
      "187 neighbours accuracy: 0.746176046176046\n",
      "189 neighbours accuracy: 0.7474747474747474\n",
      "191 neighbours accuracy: 0.7487734487734488\n",
      "193 neighbours accuracy: 0.7448688566335624\n",
      "195 neighbours accuracy: 0.746176046176046\n",
      "197 neighbours accuracy: 0.7474747474747474\n",
      "199 neighbours accuracy: 0.7474577709871827\n",
      "201 neighbours accuracy: 0.7448603683897801\n",
      "203 neighbours accuracy: 0.7500551735845853\n",
      "205 neighbours accuracy: 0.7500636618283677\n",
      "207 neighbours accuracy: 0.748756472285884\n",
      "209 neighbours accuracy: 0.7474577709871827\n",
      "211 neighbours accuracy: 0.7500636618283677\n",
      "213 neighbours accuracy: 0.7461590696884814\n",
      "215 neighbours accuracy: 0.7461675579322637\n",
      "217 neighbours accuracy: 0.7487649605296663\n",
      "219 neighbours accuracy: 0.7487649605296663\n",
      "221 neighbours accuracy: 0.7539597657244715\n",
      "223 neighbours accuracy: 0.7513623631270689\n",
      "225 neighbours accuracy: 0.7500636618283677\n",
      "227 neighbours accuracy: 0.7500636618283677\n",
      "229 neighbours accuracy: 0.7526695526695526\n",
      "231 neighbours accuracy: 0.7526610644257702\n",
      "233 neighbours accuracy: 0.7539597657244715\n",
      "235 neighbours accuracy: 0.7539597657244715\n",
      "237 neighbours accuracy: 0.7539597657244715\n",
      "239 neighbours accuracy: 0.7500636618283677\n",
      "241 neighbours accuracy: 0.7513623631270689\n",
      "243 neighbours accuracy: 0.7500551735845853\n",
      "245 neighbours accuracy: 0.7513623631270689\n",
      "247 neighbours accuracy: 0.75007215007215\n",
      "249 neighbours accuracy: 0.7500636618283677\n",
      "251 neighbours accuracy: 0.748756472285884\n",
      "253 neighbours accuracy: 0.7474492827434004\n",
      "255 neighbours accuracy: 0.746150581444699\n",
      "257 neighbours accuracy: 0.7474492827434004\n",
      "259 neighbours accuracy: 0.7500551735845853\n",
      "261 neighbours accuracy: 0.7500551735845853\n",
      "263 neighbours accuracy: 0.752652576181988\n",
      "265 neighbours accuracy: 0.752652576181988\n",
      "267 neighbours accuracy: 0.7539512774806892\n",
      "269 neighbours accuracy: 0.7526440879382056\n",
      "271 neighbours accuracy: 0.750046685340803\n",
      "273 neighbours accuracy: 0.750046685340803\n",
      "275 neighbours accuracy: 0.750046685340803\n",
      "277 neighbours accuracy: 0.750046685340803\n",
      "279 neighbours accuracy: 0.750046685340803\n",
      "281 neighbours accuracy: 0.7487479840421016\n",
      "283 neighbours accuracy: 0.750046685340803\n",
      "285 neighbours accuracy: 0.7500381970970207\n",
      "287 neighbours accuracy: 0.7500381970970207\n",
      "289 neighbours accuracy: 0.7500381970970207\n",
      "291 neighbours accuracy: 0.7500381970970207\n",
      "293 neighbours accuracy: 0.7487394957983193\n",
      "295 neighbours accuracy: 0.7500381970970207\n",
      "297 neighbours accuracy: 0.7474238180120534\n",
      "299 neighbours accuracy: 0.7487225193107546\n",
      "301 neighbours accuracy: 0.750021220609456\n",
      "303 neighbours accuracy: 0.7500127323656736\n",
      "305 neighbours accuracy: 0.7500042441218912\n",
      "307 neighbours accuracy: 0.7473983532807063\n",
      "309 neighbours accuracy: 0.7447924624395214\n",
      "311 neighbours accuracy: 0.7447924624395214\n",
      "313 neighbours accuracy: 0.7474068415244887\n",
      "315 neighbours accuracy: 0.746099651982005\n",
      "317 neighbours accuracy: 0.7474068415244887\n",
      "319 neighbours accuracy: 0.746099651982005\n",
      "321 neighbours accuracy: 0.7448009506833037\n",
      "323 neighbours accuracy: 0.7435022493846024\n",
      "325 neighbours accuracy: 0.7435022493846024\n",
      "327 neighbours accuracy: 0.7448094389270861\n",
      "329 neighbours accuracy: 0.7460996519820049\n",
      "331 neighbours accuracy: 0.7487055428231899\n",
      "333 neighbours accuracy: 0.7474068415244886\n",
      "335 neighbours accuracy: 0.7421950598421188\n",
      "337 neighbours accuracy: 0.7421950598421188\n",
      "339 neighbours accuracy: 0.7408878702996351\n",
      "341 neighbours accuracy: 0.7434937611408199\n",
      "343 neighbours accuracy: 0.7487140310669722\n",
      "345 neighbours accuracy: 0.7460996519820049\n",
      "347 neighbours accuracy: 0.7448009506833035\n",
      "349 neighbours accuracy: 0.7357015533486122\n",
      "351 neighbours accuracy: 0.7357015533486122\n",
      "353 neighbours accuracy: 0.7291656056361939\n",
      "355 neighbours accuracy: 0.7226466344113402\n",
      "357 neighbours accuracy: 0.7174178762414056\n",
      "359 neighbours accuracy: 0.7030642560054325\n",
      "361 neighbours accuracy: 0.7004583651642475\n",
      "363 neighbours accuracy: 0.7004498769204652\n",
      "365 neighbours accuracy: 0.6965452847805789\n",
      "367 neighbours accuracy: 0.6926576691282573\n",
      "369 neighbours accuracy: 0.6887615652321534\n",
      "371 neighbours accuracy: 0.6796451914098972\n",
      "373 neighbours accuracy: 0.6731347084288261\n",
      "375 neighbours accuracy: 0.6666412019353196\n",
      "377 neighbours accuracy: 0.6601392071980307\n",
      "379 neighbours accuracy: 0.6536457007045242\n"
     ]
    },
    {
     "name": "stdout",
     "output_type": "stream",
     "text": [
      "381 neighbours accuracy: 0.6510482981071216\n",
      "383 neighbours accuracy: 0.6523469994058229\n",
      "385 neighbours accuracy: 0.6523469994058229\n",
      "387 neighbours accuracy: 0.6523469994058229\n",
      "389 neighbours accuracy: 0.6523469994058229\n",
      "391 neighbours accuracy: 0.6523469994058229\n",
      "393 neighbours accuracy: 0.6510482981071216\n",
      "395 neighbours accuracy: 0.6510482981071216\n",
      "397 neighbours accuracy: 0.6510482981071216\n",
      "399 neighbours accuracy: 0.6510482981071216\n",
      "401 neighbours accuracy: 0.6510482981071216\n",
      "403 neighbours accuracy: 0.6510482981071216\n",
      "405 neighbours accuracy: 0.6510482981071216\n",
      "407 neighbours accuracy: 0.6510482981071216\n",
      "409 neighbours accuracy: 0.6510482981071216\n",
      "411 neighbours accuracy: 0.6510482981071216\n",
      "413 neighbours accuracy: 0.6510482981071216\n",
      "415 neighbours accuracy: 0.6510482981071216\n",
      "417 neighbours accuracy: 0.6510482981071216\n",
      "419 neighbours accuracy: 0.6510482981071216\n",
      "421 neighbours accuracy: 0.6510482981071216\n",
      "423 neighbours accuracy: 0.6510482981071216\n",
      "425 neighbours accuracy: 0.6510482981071216\n",
      "427 neighbours accuracy: 0.6510482981071216\n",
      "429 neighbours accuracy: 0.6510482981071216\n",
      "431 neighbours accuracy: 0.6510482981071216\n",
      "433 neighbours accuracy: 0.6510482981071216\n",
      "435 neighbours accuracy: 0.6510482981071216\n",
      "437 neighbours accuracy: 0.6510482981071216\n",
      "439 neighbours accuracy: 0.6510482981071216\n",
      "441 neighbours accuracy: 0.6510482981071216\n",
      "443 neighbours accuracy: 0.6510482981071216\n",
      "445 neighbours accuracy: 0.6510482981071216\n",
      "447 neighbours accuracy: 0.6510482981071216\n",
      "449 neighbours accuracy: 0.6510482981071216\n",
      "451 neighbours accuracy: 0.6510482981071216\n",
      "453 neighbours accuracy: 0.6510482981071216\n",
      "455 neighbours accuracy: 0.6510482981071216\n",
      "457 neighbours accuracy: 0.6510482981071216\n",
      "459 neighbours accuracy: 0.6510482981071216\n",
      "461 neighbours accuracy: 0.6510482981071216\n",
      "463 neighbours accuracy: 0.6510482981071216\n",
      "465 neighbours accuracy: 0.6510482981071216\n",
      "467 neighbours accuracy: 0.6510482981071216\n",
      "469 neighbours accuracy: 0.6510482981071216\n",
      "471 neighbours accuracy: 0.6510482981071216\n",
      "473 neighbours accuracy: 0.6510482981071216\n",
      "475 neighbours accuracy: 0.6510482981071216\n",
      "477 neighbours accuracy: 0.6510482981071216\n",
      "479 neighbours accuracy: 0.6510482981071216\n",
      "481 neighbours accuracy: 0.6510482981071216\n",
      "483 neighbours accuracy: 0.6510482981071216\n",
      "485 neighbours accuracy: 0.6510482981071216\n",
      "487 neighbours accuracy: 0.6510482981071216\n",
      "489 neighbours accuracy: 0.6510482981071216\n",
      "491 neighbours accuracy: 0.6510482981071216\n",
      "493 neighbours accuracy: 0.6510482981071216\n",
      "495 neighbours accuracy: 0.6510482981071216\n",
      "497 neighbours accuracy: 0.6510482981071216\n",
      "499 neighbours accuracy: 0.6510482981071216\n",
      "501 neighbours accuracy: 0.6510482981071216\n",
      "503 neighbours accuracy: 0.6510482981071216\n",
      "505 neighbours accuracy: 0.6510482981071216\n",
      "507 neighbours accuracy: 0.6510482981071216\n",
      "509 neighbours accuracy: 0.6510482981071216\n",
      "511 neighbours accuracy: 0.6510482981071216\n",
      "513 neighbours accuracy: 0.6510482981071216\n",
      "515 neighbours accuracy: 0.6510482981071216\n",
      "517 neighbours accuracy: 0.6510482981071216\n",
      "519 neighbours accuracy: 0.6510482981071216\n",
      "521 neighbours accuracy: 0.6510482981071216\n",
      "523 neighbours accuracy: 0.6510482981071216\n",
      "525 neighbours accuracy: 0.6510482981071216\n",
      "527 neighbours accuracy: 0.6510482981071216\n",
      "529 neighbours accuracy: 0.6510482981071216\n",
      "531 neighbours accuracy: 0.6510482981071216\n",
      "533 neighbours accuracy: 0.6510482981071216\n",
      "535 neighbours accuracy: 0.6510482981071216\n",
      "537 neighbours accuracy: 0.6510482981071216\n",
      "539 neighbours accuracy: 0.6510482981071216\n",
      "541 neighbours accuracy: 0.6510482981071216\n",
      "543 neighbours accuracy: 0.6510482981071216\n",
      "545 neighbours accuracy: 0.6510482981071216\n",
      "547 neighbours accuracy: 0.6510482981071216\n",
      "549 neighbours accuracy: 0.6510482981071216\n",
      "551 neighbours accuracy: 0.6510482981071216\n",
      "553 neighbours accuracy: 0.6510482981071216\n",
      "555 neighbours accuracy: 0.6510482981071216\n",
      "557 neighbours accuracy: 0.6510482981071216\n",
      "559 neighbours accuracy: 0.6510482981071216\n",
      "561 neighbours accuracy: 0.6510482981071216\n",
      "563 neighbours accuracy: 0.6510482981071216\n",
      "565 neighbours accuracy: 0.6510482981071216\n",
      "567 neighbours accuracy: 0.6510482981071216\n",
      "569 neighbours accuracy: 0.6510482981071216\n",
      "571 neighbours accuracy: 0.6510482981071216\n",
      "573 neighbours accuracy: 0.6510482981071216\n",
      "575 neighbours accuracy: 0.6510482981071216\n",
      "577 neighbours accuracy: 0.6510482981071216\n",
      "579 neighbours accuracy: 0.6510482981071216\n",
      "581 neighbours accuracy: 0.6510482981071216\n",
      "583 neighbours accuracy: 0.6510482981071216\n",
      "585 neighbours accuracy: 0.6510482981071216\n",
      "587 neighbours accuracy: 0.6510482981071216\n",
      "589 neighbours accuracy: 0.6510482981071216\n",
      "591 neighbours accuracy: 0.6510482981071216\n",
      "593 neighbours accuracy: 0.6510482981071216\n",
      "595 neighbours accuracy: 0.6510482981071216\n",
      "597 neighbours accuracy: 0.6510482981071216\n",
      "599 neighbours accuracy: 0.6510482981071216\n"
     ]
    }
   ],
   "source": [
    "for k in ks:\n",
    "    knn = KNeighborsClassifier(k)\n",
    "    score = cross_val_score(knn, X, y, cv=5, scoring='accuracy').mean()\n",
    "    scores.append(score)\n",
    "    print(f\"{k} neighbours accuracy: {score}\")"
   ]
  },
  {
   "cell_type": "code",
   "execution_count": 41,
   "id": "565268c6",
   "metadata": {},
   "outputs": [
    {
     "data": {
      "text/plain": [
       "0.7708768355827178"
      ]
     },
     "execution_count": 41,
     "metadata": {},
     "output_type": "execute_result"
    }
   ],
   "source": [
    "max(scores)"
   ]
  },
  {
   "cell_type": "code",
   "execution_count": 42,
   "id": "b966047e",
   "metadata": {},
   "outputs": [
    {
     "data": {
      "text/plain": [
       "9"
      ]
     },
     "execution_count": 42,
     "metadata": {},
     "output_type": "execute_result"
    }
   ],
   "source": [
    "scores.index(max(scores))"
   ]
  },
  {
   "cell_type": "code",
   "execution_count": 43,
   "id": "e3708e81",
   "metadata": {},
   "outputs": [
    {
     "data": {
      "text/plain": [
       "19"
      ]
     },
     "execution_count": 43,
     "metadata": {},
     "output_type": "execute_result"
    }
   ],
   "source": [
    "ks[9]"
   ]
  },
  {
   "cell_type": "code",
   "execution_count": 44,
   "id": "b42d745d",
   "metadata": {},
   "outputs": [
    {
     "name": "stdout",
     "output_type": "stream",
     "text": [
      "              precision    recall  f1-score   support\n",
      "\n",
      "           0       0.80      0.84      0.82       165\n",
      "           1       0.68      0.61      0.64        89\n",
      "\n",
      "    accuracy                           0.76       254\n",
      "   macro avg       0.74      0.72      0.73       254\n",
      "weighted avg       0.76      0.76      0.76       254\n",
      "\n"
     ]
    }
   ],
   "source": [
    "knn = KNeighborsClassifier(19)\n",
    "knn.fit(X_train, y_train)\n",
    "predictions = knn.predict(X_test)\n",
    "print(classification_report(y_test, predictions))"
   ]
  },
  {
   "cell_type": "code",
   "execution_count": 45,
   "id": "93c7158a",
   "metadata": {},
   "outputs": [
    {
     "name": "stdout",
     "output_type": "stream",
     "text": [
      "              precision    recall  f1-score   support\n",
      "\n",
      "           0       0.79      0.82      0.80       165\n",
      "           1       0.64      0.58      0.61        89\n",
      "\n",
      "    accuracy                           0.74       254\n",
      "   macro avg       0.71      0.70      0.71       254\n",
      "weighted avg       0.74      0.74      0.74       254\n",
      "\n"
     ]
    }
   ],
   "source": [
    "knn = KNeighborsClassifier(11)\n",
    "knn.fit(X_train, y_train)\n",
    "predictions = knn.predict(X_test)\n",
    "print(classification_report(y_test, predictions))"
   ]
  },
  {
   "cell_type": "code",
   "execution_count": null,
   "id": "518a12b4",
   "metadata": {},
   "outputs": [],
   "source": []
  }
 ],
 "metadata": {
  "kernelspec": {
   "display_name": "Python 3 (ipykernel)",
   "language": "python",
   "name": "python3"
  },
  "language_info": {
   "codemirror_mode": {
    "name": "ipython",
    "version": 3
   },
   "file_extension": ".py",
   "mimetype": "text/x-python",
   "name": "python",
   "nbconvert_exporter": "python",
   "pygments_lexer": "ipython3",
   "version": "3.8.11"
  }
 },
 "nbformat": 4,
 "nbformat_minor": 5
}
