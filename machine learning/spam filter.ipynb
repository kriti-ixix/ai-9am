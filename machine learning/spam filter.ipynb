{
 "cells": [
  {
   "cell_type": "markdown",
   "id": "12a35ce4",
   "metadata": {},
   "source": [
    "1. Hi how are you?\n",
    "\n",
    "2. Congratulations! You have won the lottery! Contact our customer representative to claim your reward for 10 crore! "
   ]
  },
  {
   "cell_type": "code",
   "execution_count": 1,
   "id": "0ed62202",
   "metadata": {},
   "outputs": [],
   "source": [
    "import nltk\n",
    "import numpy as np\n",
    "import pandas as pd\n",
    "import matplotlib.pyplot as plt\n",
    "import seaborn as sns"
   ]
  },
  {
   "cell_type": "code",
   "execution_count": 2,
   "id": "42429ee3",
   "metadata": {},
   "outputs": [],
   "source": [
    "# nltk.download()"
   ]
  },
  {
   "cell_type": "code",
   "execution_count": 3,
   "id": "c5560a26",
   "metadata": {},
   "outputs": [
    {
     "data": {
      "text/html": [
       "<div>\n",
       "<style scoped>\n",
       "    .dataframe tbody tr th:only-of-type {\n",
       "        vertical-align: middle;\n",
       "    }\n",
       "\n",
       "    .dataframe tbody tr th {\n",
       "        vertical-align: top;\n",
       "    }\n",
       "\n",
       "    .dataframe thead th {\n",
       "        text-align: right;\n",
       "    }\n",
       "</style>\n",
       "<table border=\"1\" class=\"dataframe\">\n",
       "  <thead>\n",
       "    <tr style=\"text-align: right;\">\n",
       "      <th></th>\n",
       "      <th>label</th>\n",
       "      <th>message</th>\n",
       "    </tr>\n",
       "  </thead>\n",
       "  <tbody>\n",
       "    <tr>\n",
       "      <th>0</th>\n",
       "      <td>ham</td>\n",
       "      <td>Go until jurong point, crazy.. Available only ...</td>\n",
       "    </tr>\n",
       "    <tr>\n",
       "      <th>1</th>\n",
       "      <td>ham</td>\n",
       "      <td>Ok lar... Joking wif u oni...</td>\n",
       "    </tr>\n",
       "    <tr>\n",
       "      <th>2</th>\n",
       "      <td>spam</td>\n",
       "      <td>Free entry in 2 a wkly comp to win FA Cup fina...</td>\n",
       "    </tr>\n",
       "    <tr>\n",
       "      <th>3</th>\n",
       "      <td>ham</td>\n",
       "      <td>U dun say so early hor... U c already then say...</td>\n",
       "    </tr>\n",
       "    <tr>\n",
       "      <th>4</th>\n",
       "      <td>ham</td>\n",
       "      <td>Nah I don't think he goes to usf, he lives aro...</td>\n",
       "    </tr>\n",
       "  </tbody>\n",
       "</table>\n",
       "</div>"
      ],
      "text/plain": [
       "  label                                            message\n",
       "0   ham  Go until jurong point, crazy.. Available only ...\n",
       "1   ham                      Ok lar... Joking wif u oni...\n",
       "2  spam  Free entry in 2 a wkly comp to win FA Cup fina...\n",
       "3   ham  U dun say so early hor... U c already then say...\n",
       "4   ham  Nah I don't think he goes to usf, he lives aro..."
      ]
     },
     "execution_count": 3,
     "metadata": {},
     "output_type": "execute_result"
    }
   ],
   "source": [
    "df = pd.read_csv('SMSSpamCollection', sep=\"\\t\", names=[\"label\", \"message\"])\n",
    "df.head()"
   ]
  },
  {
   "cell_type": "code",
   "execution_count": 4,
   "id": "ae87a342",
   "metadata": {},
   "outputs": [
    {
     "name": "stdout",
     "output_type": "stream",
     "text": [
      "<class 'pandas.core.frame.DataFrame'>\n",
      "RangeIndex: 5572 entries, 0 to 5571\n",
      "Data columns (total 2 columns):\n",
      " #   Column   Non-Null Count  Dtype \n",
      "---  ------   --------------  ----- \n",
      " 0   label    5572 non-null   object\n",
      " 1   message  5572 non-null   object\n",
      "dtypes: object(2)\n",
      "memory usage: 87.2+ KB\n"
     ]
    }
   ],
   "source": [
    "df.info()"
   ]
  },
  {
   "cell_type": "code",
   "execution_count": 5,
   "id": "aa88a252",
   "metadata": {
    "scrolled": true
   },
   "outputs": [
    {
     "data": {
      "text/plain": [
       "['i',\n",
       " 'me',\n",
       " 'my',\n",
       " 'myself',\n",
       " 'we',\n",
       " 'our',\n",
       " 'ours',\n",
       " 'ourselves',\n",
       " 'you',\n",
       " \"you're\",\n",
       " \"you've\",\n",
       " \"you'll\",\n",
       " \"you'd\",\n",
       " 'your',\n",
       " 'yours',\n",
       " 'yourself',\n",
       " 'yourselves',\n",
       " 'he',\n",
       " 'him',\n",
       " 'his',\n",
       " 'himself',\n",
       " 'she',\n",
       " \"she's\",\n",
       " 'her',\n",
       " 'hers',\n",
       " 'herself',\n",
       " 'it',\n",
       " \"it's\",\n",
       " 'its',\n",
       " 'itself',\n",
       " 'they',\n",
       " 'them',\n",
       " 'their',\n",
       " 'theirs',\n",
       " 'themselves',\n",
       " 'what',\n",
       " 'which',\n",
       " 'who',\n",
       " 'whom',\n",
       " 'this',\n",
       " 'that',\n",
       " \"that'll\",\n",
       " 'these',\n",
       " 'those',\n",
       " 'am',\n",
       " 'is',\n",
       " 'are',\n",
       " 'was',\n",
       " 'were',\n",
       " 'be',\n",
       " 'been',\n",
       " 'being',\n",
       " 'have',\n",
       " 'has',\n",
       " 'had',\n",
       " 'having',\n",
       " 'do',\n",
       " 'does',\n",
       " 'did',\n",
       " 'doing',\n",
       " 'a',\n",
       " 'an',\n",
       " 'the',\n",
       " 'and',\n",
       " 'but',\n",
       " 'if',\n",
       " 'or',\n",
       " 'because',\n",
       " 'as',\n",
       " 'until',\n",
       " 'while',\n",
       " 'of',\n",
       " 'at',\n",
       " 'by',\n",
       " 'for',\n",
       " 'with',\n",
       " 'about',\n",
       " 'against',\n",
       " 'between',\n",
       " 'into',\n",
       " 'through',\n",
       " 'during',\n",
       " 'before',\n",
       " 'after',\n",
       " 'above',\n",
       " 'below',\n",
       " 'to',\n",
       " 'from',\n",
       " 'up',\n",
       " 'down',\n",
       " 'in',\n",
       " 'out',\n",
       " 'on',\n",
       " 'off',\n",
       " 'over',\n",
       " 'under',\n",
       " 'again',\n",
       " 'further',\n",
       " 'then',\n",
       " 'once',\n",
       " 'here',\n",
       " 'there',\n",
       " 'when',\n",
       " 'where',\n",
       " 'why',\n",
       " 'how',\n",
       " 'all',\n",
       " 'any',\n",
       " 'both',\n",
       " 'each',\n",
       " 'few',\n",
       " 'more',\n",
       " 'most',\n",
       " 'other',\n",
       " 'some',\n",
       " 'such',\n",
       " 'no',\n",
       " 'nor',\n",
       " 'not',\n",
       " 'only',\n",
       " 'own',\n",
       " 'same',\n",
       " 'so',\n",
       " 'than',\n",
       " 'too',\n",
       " 'very',\n",
       " 's',\n",
       " 't',\n",
       " 'can',\n",
       " 'will',\n",
       " 'just',\n",
       " 'don',\n",
       " \"don't\",\n",
       " 'should',\n",
       " \"should've\",\n",
       " 'now',\n",
       " 'd',\n",
       " 'll',\n",
       " 'm',\n",
       " 'o',\n",
       " 're',\n",
       " 've',\n",
       " 'y',\n",
       " 'ain',\n",
       " 'aren',\n",
       " \"aren't\",\n",
       " 'couldn',\n",
       " \"couldn't\",\n",
       " 'didn',\n",
       " \"didn't\",\n",
       " 'doesn',\n",
       " \"doesn't\",\n",
       " 'hadn',\n",
       " \"hadn't\",\n",
       " 'hasn',\n",
       " \"hasn't\",\n",
       " 'haven',\n",
       " \"haven't\",\n",
       " 'isn',\n",
       " \"isn't\",\n",
       " 'ma',\n",
       " 'mightn',\n",
       " \"mightn't\",\n",
       " 'mustn',\n",
       " \"mustn't\",\n",
       " 'needn',\n",
       " \"needn't\",\n",
       " 'shan',\n",
       " \"shan't\",\n",
       " 'shouldn',\n",
       " \"shouldn't\",\n",
       " 'wasn',\n",
       " \"wasn't\",\n",
       " 'weren',\n",
       " \"weren't\",\n",
       " 'won',\n",
       " \"won't\",\n",
       " 'wouldn',\n",
       " \"wouldn't\"]"
      ]
     },
     "execution_count": 5,
     "metadata": {},
     "output_type": "execute_result"
    }
   ],
   "source": [
    "from nltk.corpus import stopwords\n",
    "stopwords.words('english')"
   ]
  },
  {
   "cell_type": "code",
   "execution_count": 6,
   "id": "7b3717c8",
   "metadata": {},
   "outputs": [
    {
     "data": {
      "text/html": [
       "<div>\n",
       "<style scoped>\n",
       "    .dataframe tbody tr th:only-of-type {\n",
       "        vertical-align: middle;\n",
       "    }\n",
       "\n",
       "    .dataframe tbody tr th {\n",
       "        vertical-align: top;\n",
       "    }\n",
       "\n",
       "    .dataframe thead th {\n",
       "        text-align: right;\n",
       "    }\n",
       "</style>\n",
       "<table border=\"1\" class=\"dataframe\">\n",
       "  <thead>\n",
       "    <tr style=\"text-align: right;\">\n",
       "      <th></th>\n",
       "      <th>label</th>\n",
       "      <th>message</th>\n",
       "    </tr>\n",
       "  </thead>\n",
       "  <tbody>\n",
       "    <tr>\n",
       "      <th>count</th>\n",
       "      <td>5572</td>\n",
       "      <td>5572</td>\n",
       "    </tr>\n",
       "    <tr>\n",
       "      <th>unique</th>\n",
       "      <td>2</td>\n",
       "      <td>5169</td>\n",
       "    </tr>\n",
       "    <tr>\n",
       "      <th>top</th>\n",
       "      <td>ham</td>\n",
       "      <td>Sorry, I'll call later</td>\n",
       "    </tr>\n",
       "    <tr>\n",
       "      <th>freq</th>\n",
       "      <td>4825</td>\n",
       "      <td>30</td>\n",
       "    </tr>\n",
       "  </tbody>\n",
       "</table>\n",
       "</div>"
      ],
      "text/plain": [
       "       label                 message\n",
       "count   5572                    5572\n",
       "unique     2                    5169\n",
       "top      ham  Sorry, I'll call later\n",
       "freq    4825                      30"
      ]
     },
     "execution_count": 6,
     "metadata": {},
     "output_type": "execute_result"
    }
   ],
   "source": [
    "df.describe()"
   ]
  },
  {
   "cell_type": "code",
   "execution_count": 7,
   "id": "af19f3a7",
   "metadata": {},
   "outputs": [
    {
     "data": {
      "text/html": [
       "<div>\n",
       "<style scoped>\n",
       "    .dataframe tbody tr th:only-of-type {\n",
       "        vertical-align: middle;\n",
       "    }\n",
       "\n",
       "    .dataframe tbody tr th {\n",
       "        vertical-align: top;\n",
       "    }\n",
       "\n",
       "    .dataframe thead tr th {\n",
       "        text-align: left;\n",
       "    }\n",
       "\n",
       "    .dataframe thead tr:last-of-type th {\n",
       "        text-align: right;\n",
       "    }\n",
       "</style>\n",
       "<table border=\"1\" class=\"dataframe\">\n",
       "  <thead>\n",
       "    <tr>\n",
       "      <th></th>\n",
       "      <th colspan=\"4\" halign=\"left\">message</th>\n",
       "    </tr>\n",
       "    <tr>\n",
       "      <th></th>\n",
       "      <th>count</th>\n",
       "      <th>unique</th>\n",
       "      <th>top</th>\n",
       "      <th>freq</th>\n",
       "    </tr>\n",
       "    <tr>\n",
       "      <th>label</th>\n",
       "      <th></th>\n",
       "      <th></th>\n",
       "      <th></th>\n",
       "      <th></th>\n",
       "    </tr>\n",
       "  </thead>\n",
       "  <tbody>\n",
       "    <tr>\n",
       "      <th>ham</th>\n",
       "      <td>4825</td>\n",
       "      <td>4516</td>\n",
       "      <td>Sorry, I'll call later</td>\n",
       "      <td>30</td>\n",
       "    </tr>\n",
       "    <tr>\n",
       "      <th>spam</th>\n",
       "      <td>747</td>\n",
       "      <td>653</td>\n",
       "      <td>Please call our customer service representativ...</td>\n",
       "      <td>4</td>\n",
       "    </tr>\n",
       "  </tbody>\n",
       "</table>\n",
       "</div>"
      ],
      "text/plain": [
       "      message                                                               \n",
       "        count unique                                                top freq\n",
       "label                                                                       \n",
       "ham      4825   4516                             Sorry, I'll call later   30\n",
       "spam      747    653  Please call our customer service representativ...    4"
      ]
     },
     "execution_count": 7,
     "metadata": {},
     "output_type": "execute_result"
    }
   ],
   "source": [
    "df.groupby('label').describe()"
   ]
  },
  {
   "cell_type": "code",
   "execution_count": 8,
   "id": "aeb0a8ab",
   "metadata": {},
   "outputs": [],
   "source": [
    "df['length'] = df['message'].apply(len)"
   ]
  },
  {
   "cell_type": "code",
   "execution_count": 9,
   "id": "ad803cc3",
   "metadata": {},
   "outputs": [
    {
     "data": {
      "text/html": [
       "<div>\n",
       "<style scoped>\n",
       "    .dataframe tbody tr th:only-of-type {\n",
       "        vertical-align: middle;\n",
       "    }\n",
       "\n",
       "    .dataframe tbody tr th {\n",
       "        vertical-align: top;\n",
       "    }\n",
       "\n",
       "    .dataframe thead th {\n",
       "        text-align: right;\n",
       "    }\n",
       "</style>\n",
       "<table border=\"1\" class=\"dataframe\">\n",
       "  <thead>\n",
       "    <tr style=\"text-align: right;\">\n",
       "      <th></th>\n",
       "      <th>label</th>\n",
       "      <th>message</th>\n",
       "      <th>length</th>\n",
       "    </tr>\n",
       "  </thead>\n",
       "  <tbody>\n",
       "    <tr>\n",
       "      <th>0</th>\n",
       "      <td>ham</td>\n",
       "      <td>Go until jurong point, crazy.. Available only ...</td>\n",
       "      <td>111</td>\n",
       "    </tr>\n",
       "    <tr>\n",
       "      <th>1</th>\n",
       "      <td>ham</td>\n",
       "      <td>Ok lar... Joking wif u oni...</td>\n",
       "      <td>29</td>\n",
       "    </tr>\n",
       "    <tr>\n",
       "      <th>2</th>\n",
       "      <td>spam</td>\n",
       "      <td>Free entry in 2 a wkly comp to win FA Cup fina...</td>\n",
       "      <td>155</td>\n",
       "    </tr>\n",
       "    <tr>\n",
       "      <th>3</th>\n",
       "      <td>ham</td>\n",
       "      <td>U dun say so early hor... U c already then say...</td>\n",
       "      <td>49</td>\n",
       "    </tr>\n",
       "    <tr>\n",
       "      <th>4</th>\n",
       "      <td>ham</td>\n",
       "      <td>Nah I don't think he goes to usf, he lives aro...</td>\n",
       "      <td>61</td>\n",
       "    </tr>\n",
       "  </tbody>\n",
       "</table>\n",
       "</div>"
      ],
      "text/plain": [
       "  label                                            message  length\n",
       "0   ham  Go until jurong point, crazy.. Available only ...     111\n",
       "1   ham                      Ok lar... Joking wif u oni...      29\n",
       "2  spam  Free entry in 2 a wkly comp to win FA Cup fina...     155\n",
       "3   ham  U dun say so early hor... U c already then say...      49\n",
       "4   ham  Nah I don't think he goes to usf, he lives aro...      61"
      ]
     },
     "execution_count": 9,
     "metadata": {},
     "output_type": "execute_result"
    }
   ],
   "source": [
    "df.head()"
   ]
  },
  {
   "cell_type": "code",
   "execution_count": 10,
   "id": "fffc1d7a",
   "metadata": {},
   "outputs": [
    {
     "data": {
      "text/plain": [
       "<AxesSubplot:xlabel='length', ylabel='Count'>"
      ]
     },
     "execution_count": 10,
     "metadata": {},
     "output_type": "execute_result"
    },
    {
     "data": {
      "image/png": "[encoded data removed]",
      "text/plain": [
       "<Figure size 864x720 with 1 Axes>"
      ]
     },
     "metadata": {},
     "output_type": "display_data"
    }
   ],
   "source": [
    "sns.set_style('darkgrid')\n",
    "plt.figure(figsize=(12, 10))\n",
    "sns.histplot(df['length'])"
   ]
  },
  {
   "cell_type": "code",
   "execution_count": 11,
   "id": "da4862ac",
   "metadata": {},
   "outputs": [
    {
     "data": {
      "text/plain": [
       "910"
      ]
     },
     "execution_count": 11,
     "metadata": {},
     "output_type": "execute_result"
    }
   ],
   "source": [
    "df['length'].max()"
   ]
  },
  {
   "cell_type": "code",
   "execution_count": 12,
   "id": "87c2a7d3",
   "metadata": {},
   "outputs": [
    {
     "data": {
      "text/plain": [
       "2"
      ]
     },
     "execution_count": 12,
     "metadata": {},
     "output_type": "execute_result"
    }
   ],
   "source": [
    "df['length'].min()"
   ]
  },
  {
   "cell_type": "markdown",
   "id": "ed0edb84",
   "metadata": {},
   "source": [
    "# Text Filtering"
   ]
  },
  {
   "cell_type": "code",
   "execution_count": 13,
   "id": "a045201f",
   "metadata": {},
   "outputs": [],
   "source": [
    "sampleMessage = \"Hi! Good morning... How are you?\""
   ]
  },
  {
   "cell_type": "code",
   "execution_count": 14,
   "id": "062e24fb",
   "metadata": {},
   "outputs": [
    {
     "data": {
      "text/plain": [
       "'!\"#$%&\\'()*+,-./:;<=>?@[\\\\]^_`{|}~'"
      ]
     },
     "execution_count": 14,
     "metadata": {},
     "output_type": "execute_result"
    }
   ],
   "source": [
    "import string\n",
    "\n",
    "string.punctuation"
   ]
  },
  {
   "cell_type": "code",
   "execution_count": 15,
   "id": "2088f6b5",
   "metadata": {},
   "outputs": [],
   "source": [
    "noPunc = []"
   ]
  },
  {
   "cell_type": "code",
   "execution_count": 16,
   "id": "565d456d",
   "metadata": {},
   "outputs": [],
   "source": [
    "for c in sampleMessage:\n",
    "    if c not in string.punctuation:\n",
    "        noPunc.append(c)"
   ]
  },
  {
   "cell_type": "code",
   "execution_count": 17,
   "id": "41bb596b",
   "metadata": {
    "scrolled": true
   },
   "outputs": [
    {
     "data": {
      "text/plain": [
       "['H',\n",
       " 'i',\n",
       " ' ',\n",
       " 'G',\n",
       " 'o',\n",
       " 'o',\n",
       " 'd',\n",
       " ' ',\n",
       " 'm',\n",
       " 'o',\n",
       " 'r',\n",
       " 'n',\n",
       " 'i',\n",
       " 'n',\n",
       " 'g',\n",
       " ' ',\n",
       " 'H',\n",
       " 'o',\n",
       " 'w',\n",
       " ' ',\n",
       " 'a',\n",
       " 'r',\n",
       " 'e',\n",
       " ' ',\n",
       " 'y',\n",
       " 'o',\n",
       " 'u']"
      ]
     },
     "execution_count": 17,
     "metadata": {},
     "output_type": "execute_result"
    }
   ],
   "source": [
    "noPunc"
   ]
  },
  {
   "cell_type": "code",
   "execution_count": 18,
   "id": "dd8badf7",
   "metadata": {},
   "outputs": [
    {
     "data": {
      "text/plain": [
       "'Hi Good morning How are you'"
      ]
     },
     "execution_count": 18,
     "metadata": {},
     "output_type": "execute_result"
    }
   ],
   "source": [
    "noPunc = ''.join(noPunc)\n",
    "noPunc"
   ]
  },
  {
   "cell_type": "code",
   "execution_count": 19,
   "id": "bab27d82",
   "metadata": {},
   "outputs": [
    {
     "data": {
      "text/plain": [
       "['Hi', 'Good', 'morning', 'How', 'are', 'you']"
      ]
     },
     "execution_count": 19,
     "metadata": {},
     "output_type": "execute_result"
    }
   ],
   "source": [
    "words = noPunc.split()\n",
    "words"
   ]
  },
  {
   "cell_type": "code",
   "execution_count": 20,
   "id": "60a4a9e4",
   "metadata": {},
   "outputs": [],
   "source": [
    "cleanMessage = []"
   ]
  },
  {
   "cell_type": "code",
   "execution_count": 21,
   "id": "73a6d75b",
   "metadata": {},
   "outputs": [],
   "source": [
    "for word in words:\n",
    "    if word not in stopwords.words():\n",
    "        cleanMessage.append(word)"
   ]
  },
  {
   "cell_type": "code",
   "execution_count": 22,
   "id": "36bc427b",
   "metadata": {},
   "outputs": [
    {
     "data": {
      "text/plain": [
       "['Hi', 'Good', 'morning', 'How']"
      ]
     },
     "execution_count": 22,
     "metadata": {},
     "output_type": "execute_result"
    }
   ],
   "source": [
    "cleanMessage"
   ]
  },
  {
   "cell_type": "code",
   "execution_count": 23,
   "id": "7b3bf8e7",
   "metadata": {},
   "outputs": [],
   "source": [
    "def textFiltering(message):\n",
    "    noPunc = []\n",
    "    for c in message:\n",
    "        if c not in string.punctuation:\n",
    "            noPunc.append(c)  \n",
    "            \n",
    "    noPunc = ''.join(noPunc)\n",
    "    noPunc = noPunc.split()\n",
    "    \n",
    "    output = []\n",
    "    \n",
    "    for word in noPunc:\n",
    "        if word not in stopwords.words():\n",
    "            output.append(word)\n",
    "            \n",
    "    return output"
   ]
  },
  {
   "cell_type": "code",
   "execution_count": 24,
   "id": "6f43cdee",
   "metadata": {},
   "outputs": [
    {
     "data": {
      "text/plain": [
       "['Hi', 'Good', 'morning', 'How']"
      ]
     },
     "execution_count": 24,
     "metadata": {},
     "output_type": "execute_result"
    }
   ],
   "source": [
    "textFiltering(sampleMessage)"
   ]
  },
  {
   "cell_type": "code",
   "execution_count": 25,
   "id": "f62627fc",
   "metadata": {},
   "outputs": [
    {
     "data": {
      "text/plain": [
       "['yooooooo']"
      ]
     },
     "execution_count": 25,
     "metadata": {},
     "output_type": "execute_result"
    }
   ],
   "source": [
    "textFiltering(\"yooooooo\")"
   ]
  },
  {
   "cell_type": "markdown",
   "id": "5f9a1e38",
   "metadata": {},
   "source": [
    "# Count Vectorization (Bag of Words)"
   ]
  },
  {
   "cell_type": "code",
   "execution_count": 26,
   "id": "949007b3",
   "metadata": {},
   "outputs": [],
   "source": [
    "from sklearn.feature_extraction.text import CountVectorizer"
   ]
  },
  {
   "cell_type": "code",
   "execution_count": 27,
   "id": "7d1c229d",
   "metadata": {},
   "outputs": [],
   "source": [
    "bow_transformer = CountVectorizer(analyzer=textFiltering).fit(df['message'])"
   ]
  },
  {
   "cell_type": "code",
   "execution_count": 28,
   "id": "cd24ed6e",
   "metadata": {},
   "outputs": [
    {
     "data": {
      "text/plain": [
       "CountVectorizer(analyzer=<function textFiltering at 0x120880f70>)"
      ]
     },
     "execution_count": 28,
     "metadata": {},
     "output_type": "execute_result"
    }
   ],
   "source": [
    "bow_transformer"
   ]
  },
  {
   "cell_type": "code",
   "execution_count": 29,
   "id": "b42e3be0",
   "metadata": {
    "scrolled": true
   },
   "outputs": [
    {
     "data": {
      "text/plain": [
       "{'Go': 2113,\n",
       " 'jurong': 7681,\n",
       " 'point': 8995,\n",
       " 'crazy': 5941,\n",
       " 'Available': 1133,\n",
       " 'bugis': 5396,\n",
       " 'great': 7083,\n",
       " 'world': 11214,\n",
       " 'buffet': 5395,\n",
       " 'Cine': 1521,\n",
       " 'got': 7052,\n",
       " 'amore': 4840,\n",
       " 'Ok': 3177,\n",
       " 'lar': 7820,\n",
       " 'Joking': 2535,\n",
       " 'wif': 11125,\n",
       " 'Free': 1993,\n",
       " 'entry': 6481,\n",
       " '2': 423,\n",
       " 'wkly': 11175,\n",
       " 'comp': 5791,\n",
       " 'win': 11136,\n",
       " 'FA': 1882,\n",
       " 'Cup': 1589,\n",
       " 'final': 6705,\n",
       " 'tkts': 10575,\n",
       " '21st': 443,\n",
       " 'May': 2896,\n",
       " '2005': 430,\n",
       " 'Text': 4095,\n",
       " '87121': 871,\n",
       " 'receive': 9329,\n",
       " 'questionstd': 9236,\n",
       " 'txt': 10747,\n",
       " 'rateTCs': 9277,\n",
       " 'apply': 4918,\n",
       " '08452810075over18s': 73,\n",
       " 'U': 4221,\n",
       " 'dun': 6361,\n",
       " 'say': 9630,\n",
       " 'early': 6378,\n",
       " 'hor': 7324,\n",
       " 'already': 4817,\n",
       " 'Nah': 3047,\n",
       " 'I': 2362,\n",
       " 'dont': 6282,\n",
       " 'think': 10498,\n",
       " 'goes': 7023,\n",
       " 'usf': 10857,\n",
       " 'lives': 7959,\n",
       " 'around': 4963,\n",
       " 'though': 10515,\n",
       " 'FreeMsg': 1995,\n",
       " 'Hey': 2290,\n",
       " 'darling': 6033,\n",
       " '3': 543,\n",
       " 'weeks': 11064,\n",
       " 'word': 11201,\n",
       " 'back': 5076,\n",
       " 'Id': 2424,\n",
       " 'like': 7917,\n",
       " 'fun': 6903,\n",
       " 'still': 10163,\n",
       " 'Tb': 4072,\n",
       " 'ok': 8654,\n",
       " 'XxX': 4564,\n",
       " 'std': 10143,\n",
       " 'chgs': 5641,\n",
       " 'send': 9713,\n",
       " '£150': 11420,\n",
       " 'rcv': 9286,\n",
       " 'Even': 1851,\n",
       " 'brother': 5371,\n",
       " 'speak': 10041,\n",
       " 'They': 4123,\n",
       " 'treat': 10691,\n",
       " 'aids': 4781,\n",
       " 'patent': 8842,\n",
       " 'As': 1115,\n",
       " 'request': 9433,\n",
       " 'Melle': 2907,\n",
       " 'Oru': 3215,\n",
       " 'Minnaminunginte': 2926,\n",
       " 'Nurungu': 3125,\n",
       " 'Vettam': 4329,\n",
       " 'set': 9736,\n",
       " 'callertune': 5469,\n",
       " 'Callers': 1458,\n",
       " 'Press': 3399,\n",
       " '9': 909,\n",
       " 'copy': 5888,\n",
       " 'friends': 6867,\n",
       " 'Callertune': 1459,\n",
       " 'WINNER': 4391,\n",
       " 'valued': 10884,\n",
       " 'network': 8498,\n",
       " 'customer': 5991,\n",
       " 'selected': 9702,\n",
       " 'receivea': 9330,\n",
       " '£900': 11461,\n",
       " 'prize': 9135,\n",
       " 'reward': 9490,\n",
       " 'To': 4161,\n",
       " 'claim': 5692,\n",
       " 'call': 5452,\n",
       " '09061701461': 219,\n",
       " 'Claim': 1523,\n",
       " 'code': 5747,\n",
       " 'KL341': 2562,\n",
       " 'Valid': 4319,\n",
       " '12': 326,\n",
       " 'hours': 7337,\n",
       " 'Had': 2232,\n",
       " 'mobile': 8316,\n",
       " '11': 315,\n",
       " 'months': 8349,\n",
       " 'R': 3442,\n",
       " 'entitled': 6478,\n",
       " 'Update': 4285,\n",
       " 'latest': 7835,\n",
       " 'colour': 5767,\n",
       " 'mobiles': 8317,\n",
       " 'camera': 5480,\n",
       " 'Call': 1454,\n",
       " 'The': 4109,\n",
       " 'Mobile': 2945,\n",
       " 'Co': 1530,\n",
       " 'FREE': 1915,\n",
       " '08002986030': 58,\n",
       " 'Im': 2431,\n",
       " 'gonna': 7036,\n",
       " 'home': 7298,\n",
       " 'soon': 10001,\n",
       " 'talk': 10368,\n",
       " 'stuff': 10223,\n",
       " 'anymore': 4888,\n",
       " 'tonight': 10620,\n",
       " 'Ive': 2477,\n",
       " 'cried': 5955,\n",
       " 'enough': 6469,\n",
       " 'today': 10587,\n",
       " 'SIX': 3621,\n",
       " 'chances': 5585,\n",
       " 'CASH': 1390,\n",
       " 'From': 2009,\n",
       " '100': 294,\n",
       " '20000': 427,\n",
       " 'pounds': 9053,\n",
       " 'CSH11': 1442,\n",
       " '87575': 875,\n",
       " 'Cost': 1562,\n",
       " '150pday': 364,\n",
       " '6days': 763,\n",
       " '16': 382,\n",
       " 'TsandCs': 4201,\n",
       " 'Reply': 3536,\n",
       " 'HL': 2199,\n",
       " '4': 605,\n",
       " 'info': 7486,\n",
       " 'URGENT': 4244,\n",
       " 'You': 4628,\n",
       " '1': 292,\n",
       " 'week': 11059,\n",
       " 'membership': 8219,\n",
       " '£100000': 11414,\n",
       " 'Prize': 3404,\n",
       " 'Jackpot': 2505,\n",
       " 'Txt': 4215,\n",
       " 'CLAIM': 1415,\n",
       " 'No': 3087,\n",
       " '81010': 821,\n",
       " 'TC': 3981,\n",
       " 'wwwdbuknet': 11282,\n",
       " 'LCCLTD': 2636,\n",
       " 'POBOX': 3259,\n",
       " '4403LDNW1A7RW18': 626,\n",
       " 'searching': 9671,\n",
       " 'right': 9499,\n",
       " 'words': 11205,\n",
       " 'thank': 10457,\n",
       " 'breather': 5344,\n",
       " 'promise': 9169,\n",
       " 'wont': 11196,\n",
       " 'help': 7230,\n",
       " 'granted': 7075,\n",
       " 'fulfil': 6899,\n",
       " 'wonderful': 11193,\n",
       " 'blessing': 5253,\n",
       " 'times': 10554,\n",
       " 'HAVE': 2175,\n",
       " 'A': 933,\n",
       " 'DATE': 1607,\n",
       " 'ON': 3146,\n",
       " 'SUNDAY': 3694,\n",
       " 'WITH': 4394,\n",
       " 'WILL': 4389,\n",
       " 'XXXMobileMovieClub': 4555,\n",
       " 'use': 10851,\n",
       " 'credit': 5946,\n",
       " 'click': 5713,\n",
       " 'WAP': 4359,\n",
       " 'link': 7935,\n",
       " 'next': 8512,\n",
       " 'message': 8241,\n",
       " 'httpwap': 7360,\n",
       " 'xxxmobilemovieclubcomnQJKGIGHJJGCBL': 11324,\n",
       " 'Oh': 3172,\n",
       " 'watching': 11023,\n",
       " 'Eh': 1818,\n",
       " 'remember': 9396,\n",
       " 'spell': 10055,\n",
       " 'Yes': 4613,\n",
       " 'He': 2261,\n",
       " 'naughty': 8462,\n",
       " 'make': 8114,\n",
       " 'wet': 11093,\n",
       " 'Fine': 1965,\n",
       " 'that\\x92s': 10470,\n",
       " 'way': 11032,\n",
       " 'feel': 6665,\n",
       " 'That\\x92s': 4107,\n",
       " 'gota': 7053,\n",
       " 'b': 5064,\n",
       " 'England': 1833,\n",
       " 'Macedonia': 2864,\n",
       " 'miss': 8291,\n",
       " 'goalsteam': 7016,\n",
       " 'news': 8507,\n",
       " 'ur': 10835,\n",
       " 'national': 8456,\n",
       " 'team': 10403,\n",
       " '87077': 870,\n",
       " 'ENGLAND': 1776,\n",
       " 'TryWALES': 4195,\n",
       " 'SCOTLAND': 3584,\n",
       " '4txtú120': 677,\n",
       " 'POBOXox36504W45WQ': 3262,\n",
       " 'Is': 2464,\n",
       " 'seriously': 9730,\n",
       " 'I‘m': 2484,\n",
       " 'going': 7028,\n",
       " 'try': 10717,\n",
       " 'joking': 7660,\n",
       " 'So': 3851,\n",
       " 'pay': 8850,\n",
       " 'first': 6732,\n",
       " 'Then': 4115,\n",
       " 'stock': 10167,\n",
       " 'comin': 5781,\n",
       " 'Aft': 1032,\n",
       " 'finish': 6718,\n",
       " 'lunch': 8062,\n",
       " 'go': 7010,\n",
       " 'str': 10187,\n",
       " 'Ard': 1104,\n",
       " 'smth': 9951,\n",
       " 'Ffffffffff': 1956,\n",
       " 'Alright': 1069,\n",
       " 'meet': 8202,\n",
       " 'sooner': 10002,\n",
       " 'Just': 2551,\n",
       " 'forced': 6803,\n",
       " 'eat': 6390,\n",
       " 'slice': 9906,\n",
       " 'really': 9311,\n",
       " 'hungry': 7384,\n",
       " 'tho': 10511,\n",
       " 'This': 4132,\n",
       " 'sucks': 10255,\n",
       " 'Mark': 2886,\n",
       " 'getting': 6978,\n",
       " 'worried': 11220,\n",
       " 'knows': 7765,\n",
       " 'sick': 9835,\n",
       " 'turn': 10733,\n",
       " 'pizza': 8948,\n",
       " 'Lol': 2733,\n",
       " 'always': 4828,\n",
       " 'convincing': 5875,\n",
       " 'Did': 1706,\n",
       " 'catch': 5548,\n",
       " 'bus': 5415,\n",
       " 'Are': 1105,\n",
       " 'frying': 6889,\n",
       " 'egg': 6415,\n",
       " 'tea': 10397,\n",
       " 'eating': 6393,\n",
       " 'moms': 8334,\n",
       " 'left': 7867,\n",
       " 'dinner': 6205,\n",
       " 'Do': 1729,\n",
       " 'Love': 2746,\n",
       " 'amp': 4842,\n",
       " 'packing': 8775,\n",
       " 'car': 5507,\n",
       " 'Ill': 2429,\n",
       " 'let': 7887,\n",
       " 'know': 7761,\n",
       " 'theres': 10486,\n",
       " 'room': 9537,\n",
       " 'Ahhh': 1043,\n",
       " 'Work': 4530,\n",
       " 'vaguely': 10876,\n",
       " 'What': 4478,\n",
       " 'Wait': 4428,\n",
       " 'thats': 10469,\n",
       " 'clear': 5707,\n",
       " 'sure': 10305,\n",
       " 'sarcastic': 9612,\n",
       " 'x': 11311,\n",
       " 'doesnt': 6259,\n",
       " 'live': 7956,\n",
       " 'us': 10845,\n",
       " 'Yeah': 4604,\n",
       " 'apologetic': 4906,\n",
       " 'fallen': 6616,\n",
       " 'actin': 4701,\n",
       " 'spoilt': 10075,\n",
       " 'child': 5657,\n",
       " 'caught': 5552,\n",
       " 'Till': 4148,\n",
       " 'But': 1365,\n",
       " 'Not': 3113,\n",
       " 'badly': 5081,\n",
       " 'cheers': 5624,\n",
       " 'K': 2553,\n",
       " 'tell': 10419,\n",
       " 'anything': 4894,\n",
       " 'For': 1981,\n",
       " 'fear': 6657,\n",
       " 'fainting': 6607,\n",
       " 'housework': 7341,\n",
       " 'Quick': 3437,\n",
       " 'cuppa': 5981,\n",
       " 'Thanks': 4100,\n",
       " 'subscription': 10245,\n",
       " 'Ringtone': 3546,\n",
       " 'UK': 4227,\n",
       " 'charged': 5597,\n",
       " '£5month': 11453,\n",
       " 'Please': 3356,\n",
       " 'confirm': 5833,\n",
       " 'replying': 9428,\n",
       " 'YES': 4574,\n",
       " 'NO': 3022,\n",
       " 'If': 2428,\n",
       " 'reply': 9426,\n",
       " 'Yup': 4642,\n",
       " 'look': 7996,\n",
       " 'timings': 10560,\n",
       " 'msg': 8381,\n",
       " 'Xuhui': 4562,\n",
       " 'learn': 7856,\n",
       " '2nd': 526,\n",
       " 'may': 8176,\n",
       " 'lesson': 7885,\n",
       " '8am': 903,\n",
       " 'Oops': 3201,\n",
       " 'roommates': 9540,\n",
       " 'done': 6279,\n",
       " 'see': 9687,\n",
       " 'letter': 7889,\n",
       " 'B': 1143,\n",
       " 'Anything': 1090,\n",
       " 'decide': 6082,\n",
       " 'Hello': 2275,\n",
       " 'Hows': 2350,\n",
       " 'saturday': 9622,\n",
       " 'texting': 10448,\n",
       " 'youd': 11367,\n",
       " 'decided': 6083,\n",
       " 'tomo': 10609,\n",
       " 'trying': 10719,\n",
       " 'invite': 7542,\n",
       " 'Pls': 3358,\n",
       " 'ahead': 4773,\n",
       " 'watts': 11030,\n",
       " 'wanted': 11001,\n",
       " 'weekend': 11061,\n",
       " 'Abiola': 1011,\n",
       " 'forget': 6809,\n",
       " 'need': 8478,\n",
       " 'crave': 5938,\n",
       " 'love': 8028,\n",
       " 'sweet': 10329,\n",
       " 'Arabian': 1102,\n",
       " 'steed': 10149,\n",
       " 'Mmmmmm': 2939,\n",
       " 'Yummy': 4639,\n",
       " '07732584351': 29,\n",
       " 'Rodger': 3552,\n",
       " 'Burns': 1363,\n",
       " 'MSG': 2846,\n",
       " 'We': 4456,\n",
       " 'tried': 10700,\n",
       " 'sms': 9946,\n",
       " 'free': 6847,\n",
       " 'nokia': 8546,\n",
       " 'camcorder': 5478,\n",
       " '08000930705': 54,\n",
       " 'delivery': 6116,\n",
       " 'tomorrow': 10612,\n",
       " 'WHO': 4383,\n",
       " 'ARE': 983,\n",
       " 'YOU': 4587,\n",
       " 'SEEING': 3588,\n",
       " 'Great': 2141,\n",
       " 'hope': 7315,\n",
       " 'well': 11076,\n",
       " 'endowed': 6453,\n",
       " 'ltgt': 8054,\n",
       " 'inches': 7465,\n",
       " 'callsmessagesmissed': 5475,\n",
       " 'calls': 5474,\n",
       " 'Didnt': 1707,\n",
       " 'get': 6970,\n",
       " 'immunisation': 7447,\n",
       " 'nigeria': 8519,\n",
       " 'Fair': 1944,\n",
       " 'hopefully': 7320,\n",
       " 'tyler': 10753,\n",
       " 'cant': 5496,\n",
       " 'could': 5910,\n",
       " 'maybe': 8178,\n",
       " 'ask': 4984,\n",
       " 'bit': 5231,\n",
       " 'stubborn': 10213,\n",
       " 'didnt': 6176,\n",
       " 'even': 6518,\n",
       " 'hospital': 7329,\n",
       " 'kept': 7718,\n",
       " 'telling': 10420,\n",
       " 'weak': 11036,\n",
       " 'sucker': 10253,\n",
       " 'Hospitals': 2341,\n",
       " 'suckers': 10254,\n",
       " 'thinked': 10500,\n",
       " 'First': 1969,\n",
       " 'time': 10550,\n",
       " 'saw': 9629,\n",
       " 'class': 5700,\n",
       " 'gram': 7069,\n",
       " 'usually': 10863,\n",
       " 'runs': 9572,\n",
       " 'half': 7147,\n",
       " 'eighth': 6422,\n",
       " 'smarter': 9928,\n",
       " 'gets': 6974,\n",
       " 'almost': 4813,\n",
       " 'whole': 11116,\n",
       " 'second': 9675,\n",
       " 'fyi': 6916,\n",
       " 'ride': 9498,\n",
       " 'morning': 8354,\n",
       " 'hes': 7249,\n",
       " 'crashing': 5937,\n",
       " 'place': 8949,\n",
       " 'Wow': 4537,\n",
       " 'never': 8502,\n",
       " 'realized': 9309,\n",
       " 'embarassed': 6439,\n",
       " 'accomodations': 4684,\n",
       " 'thought': 10516,\n",
       " 'liked': 7918,\n",
       " 'since': 9859,\n",
       " 'best': 5194,\n",
       " 'seemed': 9693,\n",
       " 'happy': 7177,\n",
       " 'cave': 5556,\n",
       " 'sorry': 10011,\n",
       " 'give': 6996,\n",
       " 'offered': 8634,\n",
       " 'embarassing': 6440,\n",
       " 'SMS': 3632,\n",
       " 'ac': 4670,\n",
       " 'Sptv': 3894,\n",
       " 'New': 3067,\n",
       " 'Jersey': 2525,\n",
       " 'Devils': 1700,\n",
       " 'Detroit': 1699,\n",
       " 'Red': 3516,\n",
       " 'Wings': 4505,\n",
       " 'play': 8963,\n",
       " 'Ice': 2422,\n",
       " 'Hockey': 2319,\n",
       " 'Correct': 1560,\n",
       " 'Incorrect': 2440,\n",
       " 'End': 1831,\n",
       " 'END': 1774,\n",
       " 'SPTV': 3665,\n",
       " 'Mallika': 2876,\n",
       " 'Sherawat': 3782,\n",
       " 'yesterday': 11349,\n",
       " 'Find': 1964,\n",
       " 'ltURLgt': 8053,\n",
       " 'Congrats': 1551,\n",
       " 'year': 11340,\n",
       " 'special': 10043,\n",
       " 'cinema': 5688,\n",
       " 'pass': 8831,\n",
       " '09061209465': 214,\n",
       " 'C': 1373,\n",
       " 'Suprman': 3954,\n",
       " 'V': 4302,\n",
       " 'Matrix3': 2893,\n",
       " 'StarWars3': 3903,\n",
       " 'etc': 6508,\n",
       " 'bx420ip45we': 5434,\n",
       " '150pm': 365,\n",
       " 'Dont': 1742,\n",
       " 'Sorry': 3867,\n",
       " 'later': 7833,\n",
       " 'meeting': 8204,\n",
       " 'Tell': 4084,\n",
       " 'reached': 9293,\n",
       " 'Yesgauti': 4616,\n",
       " 'sehwag': 9699,\n",
       " 'odi': 8628,\n",
       " 'series': 9728,\n",
       " 'Your': 4632,\n",
       " 'pick': 8923,\n",
       " 'burger': 5407,\n",
       " 'move': 8368,\n",
       " 'Pain': 3301,\n",
       " 'killing': 7738,\n",
       " 'Ha': 2229,\n",
       " 'good': 7038,\n",
       " 'joke': 7655,\n",
       " 'Girls': 2108,\n",
       " 'situation': 9878,\n",
       " 'seekers': 9690,\n",
       " 'Its': 2472,\n",
       " 'part': 8820,\n",
       " 'checking': 5621,\n",
       " 'IQ': 2404,\n",
       " 'took': 10629,\n",
       " 'forever': 6806,\n",
       " 'double': 6292,\n",
       " 'check': 5618,\n",
       " 'hair': 7144,\n",
       " 'dresser': 6320,\n",
       " 'said': 9589,\n",
       " 'wun': 11259,\n",
       " 'cut': 5994,\n",
       " 'short': 9802,\n",
       " 'nice': 8515,\n",
       " 'pleased': 8974,\n",
       " 'advise': 4738,\n",
       " 'following': 6787,\n",
       " 'recent': 9333,\n",
       " 'review': 9488,\n",
       " 'Mob': 2942,\n",
       " 'awarded': 5057,\n",
       " '£1500': 11421,\n",
       " 'Bonus': 1315,\n",
       " '09066364589': 263,\n",
       " 'Today': 4163,\n",
       " 'song': 9997,\n",
       " 'dedicated': 6092,\n",
       " 'day': 6049,\n",
       " 'Which': 4492,\n",
       " 'dedicate': 6091,\n",
       " 'Send': 3751,\n",
       " 'valuable': 10881,\n",
       " 'frnds': 6876,\n",
       " 'rply': 9553,\n",
       " 'Urgent': 4292,\n",
       " 'UR': 4241,\n",
       " 'complimentary': 5808,\n",
       " 'trip': 10701,\n",
       " 'EuroDisinc': 1848,\n",
       " 'Trav': 4185,\n",
       " 'AcoEntry41': 1021,\n",
       " 'Or': 3207,\n",
       " '£1000': 11412,\n",
       " 'DIS': 1627,\n",
       " '186£150moreFrmMob': 391,\n",
       " 'ShrAcomOrSglSuplt10': 3803,\n",
       " 'LS1': 2674,\n",
       " '3AJ': 576,\n",
       " 'hear': 7207,\n",
       " 'new': 8505,\n",
       " 'Divorce': 1723,\n",
       " 'Barbie': 1253,\n",
       " 'It': 2468,\n",
       " 'comes': 5777,\n",
       " 'Kens': 2582,\n",
       " 'plane': 8956,\n",
       " 'month': 8346,\n",
       " 'Wah': 4426,\n",
       " 'lucky': 8059,\n",
       " 'save': 9625,\n",
       " 'money': 8339,\n",
       " 'Hee': 2269,\n",
       " 'Finished': 1968,\n",
       " 'HI': 2193,\n",
       " 'BABE': 1147,\n",
       " 'IM': 2381,\n",
       " 'AT': 994,\n",
       " 'HOME': 2205,\n",
       " 'NOW': 3035,\n",
       " 'WANNA': 4356,\n",
       " 'DO': 1630,\n",
       " 'SOMETHING': 3642,\n",
       " 'XX': 4552,\n",
       " 'Kkwhere': 2612,\n",
       " 'youhow': 11370,\n",
       " 'performed': 8883,\n",
       " 'waiting': 10979,\n",
       " 'machan': 8084,\n",
       " 'Thats': 4106,\n",
       " 'cool': 5881,\n",
       " 'gentleman': 6964,\n",
       " 'dignity': 6197,\n",
       " 'respect': 9454,\n",
       " 'peoples': 8876,\n",
       " 'much': 8396,\n",
       " 'shy': 9832,\n",
       " 'Does': 1732,\n",
       " 'operate': 8691,\n",
       " 'Still': 3915,\n",
       " 'looking': 7999,\n",
       " 'job': 7642,\n",
       " 'How': 2347,\n",
       " 'Tas': 4069,\n",
       " 'earn': 6379,\n",
       " 'ah': 4771,\n",
       " 'hi': 7256,\n",
       " 'stop': 10176,\n",
       " 'urgnt': 10840,\n",
       " 'real': 9303,\n",
       " 'tickets': 10543,\n",
       " 'jacket': 7606,\n",
       " 'used': 10852,\n",
       " 'multis': 8404,\n",
       " 'started': 10124,\n",
       " 'requests': 9434,\n",
       " 'pain': 8781,\n",
       " 'came': 5479,\n",
       " 'bed': 5154,\n",
       " 'Double': 1748,\n",
       " 'coins': 5753,\n",
       " 'factory': 6599,\n",
       " 'gotta': 7056,\n",
       " 'cash': 5538,\n",
       " 'nitros': 8537,\n",
       " 'babe': 5068,\n",
       " 'Ela': 1821,\n",
       " 'kanoil': 7702,\n",
       " 'download': 6298,\n",
       " 'wen': 11081,\n",
       " 'Don‘t': 1745,\n",
       " 'stand': 10113,\n",
       " 'close': 5719,\n",
       " 'you‘ll': 11387,\n",
       " 'something': 9985,\n",
       " 'another': 4873,\n",
       " 'night': 8520,\n",
       " 'spent': 10060,\n",
       " 'late': 7828,\n",
       " 'afternoon': 4754,\n",
       " 'casualty': 5547,\n",
       " 'means': 8194,\n",
       " 'havent': 7192,\n",
       " 'stuff42moro': 10224,\n",
       " 'includes': 7468,\n",
       " 'sheets': 9771,\n",
       " 'Smile': 3843,\n",
       " 'Pleasure': 3357,\n",
       " 'trouble': 10706,\n",
       " 'pours': 9055,\n",
       " 'Rain': 3489,\n",
       " 'sum1': 10272,\n",
       " 'Hurts': 2360,\n",
       " 'becoz': 5152,\n",
       " 'SOMEONE': 3640,\n",
       " 'Loves': 2752,\n",
       " 'Smiling': 3845,\n",
       " 'service': 9733,\n",
       " 'representative': 9431,\n",
       " '0800': 50,\n",
       " '169': 384,\n",
       " '6031': 726,\n",
       " '10am9pm': 309,\n",
       " 'WON': 4403,\n",
       " 'guaranteed': 7115,\n",
       " '£5000': 11448,\n",
       " 'Havent': 2258,\n",
       " 'planning': 8960,\n",
       " 'buy': 5426,\n",
       " 'lido': 7900,\n",
       " '530': 697,\n",
       " 'show': 9816,\n",
       " 'work': 11206,\n",
       " 'ringtone': 9506,\n",
       " 'collected': 5760,\n",
       " 'Simply': 3813,\n",
       " 'text': 10443,\n",
       " 'password': 8839,\n",
       " 'MIX': 2819,\n",
       " '85069': 856,\n",
       " 'verify': 10902,\n",
       " 'Get': 2100,\n",
       " 'Usher': 4297,\n",
       " 'Britney': 1349,\n",
       " 'FML': 1906,\n",
       " 'PO': 3257,\n",
       " 'Box': 1326,\n",
       " '5249': 694,\n",
       " 'MK17': 2820,\n",
       " '92H': 914,\n",
       " '450Ppw': 636,\n",
       " 'Watching': 4450,\n",
       " 'telugu': 10424,\n",
       " 'moviewat': 8373,\n",
       " 'abt': 4666,\n",
       " 'When': 4483,\n",
       " 'loads': 7966,\n",
       " 'loans': 7968,\n",
       " 'Hi': 2293,\n",
       " 'Wk': 4515,\n",
       " 'hols': 7296,\n",
       " 'run': 9569,\n",
       " 'Forgot': 1986,\n",
       " 'hairdressers': 7146,\n",
       " 'appointment': 4922,\n",
       " 'four': 6833,\n",
       " 'shower': 9818,\n",
       " 'beforehand': 5166,\n",
       " 'cause': 5553,\n",
       " 'prob': 9139,\n",
       " 'cup': 5979,\n",
       " 'coffee': 5748,\n",
       " 'animation': 4860,\n",
       " 'nothing': 8569,\n",
       " 'else': 6435,\n",
       " 'Okay': 3178,\n",
       " 'price': 9116,\n",
       " 'long': 7992,\n",
       " 'legal': 7870,\n",
       " 'Wen': 4469,\n",
       " 'Y': 4566,\n",
       " 'ave': 5045,\n",
       " 'ams': 4844,\n",
       " 'xx': 11321,\n",
       " 'And': 1085,\n",
       " 'gone': 7034,\n",
       " '4the': 675,\n",
       " 'driving': 6329,\n",
       " 'test': 10439,\n",
       " 'yet': 11350,\n",
       " 'wow': 11235,\n",
       " 'Youre': 4633,\n",
       " 'mean': 8190,\n",
       " 'guess': 7119,\n",
       " 'gave': 6946,\n",
       " 'boston': 5304,\n",
       " 'changed': 5587,\n",
       " 'search': 9670,\n",
       " 'location': 7971,\n",
       " 'nyc': 8607,\n",
       " 'Cuz': 1598,\n",
       " 'signin': 9845,\n",
       " 'page': 8778,\n",
       " 'says': 9635,\n",
       " 'Umma': 4264,\n",
       " 'life': 7903,\n",
       " 'vava': 10892,\n",
       " 'umma': 10770,\n",
       " 'lot': 8012,\n",
       " 'dear': 6069,\n",
       " 'wishes': 11156,\n",
       " 'birthday': 5229,\n",
       " 'making': 8117,\n",
       " 'truly': 10713,\n",
       " 'memorable': 8221,\n",
       " 'Aight': 1046,\n",
       " 'hit': 7275,\n",
       " 'would': 11231,\n",
       " 'ip': 7550,\n",
       " 'address': 4715,\n",
       " 'considering': 5850,\n",
       " 'computer': 5814,\n",
       " 'isnt': 7572,\n",
       " 'minecraft': 8272,\n",
       " 'server': 9732,\n",
       " 'Grumpy': 2145,\n",
       " 'old': 8667,\n",
       " 'people': 8875,\n",
       " 'My': 2995,\n",
       " 'mom': 8331,\n",
       " 'better': 5200,\n",
       " 'lying': 8075,\n",
       " 'jokes': 7657,\n",
       " 'worry': 11222,\n",
       " 'busy': 5421,\n",
       " 'plural': 8984,\n",
       " 'noun': 8576,\n",
       " 'research': 9440,\n",
       " 'Going': 2119,\n",
       " 'dinnermsg': 6206,\n",
       " 'cos': 5899,\n",
       " 'things': 10497,\n",
       " 'scared': 9641,\n",
       " 'mah': 8104,\n",
       " 'Cos': 1561,\n",
       " 'loud': 8023,\n",
       " 'GENT': 2032,\n",
       " 'contact': 5855,\n",
       " 'Last': 2692,\n",
       " 'weekends': 11062,\n",
       " 'draw': 6308,\n",
       " 'shows': 9823,\n",
       " 'GUARANTEED': 2075,\n",
       " '09064012160': 238,\n",
       " 'Code': 1532,\n",
       " 'K52': 2554,\n",
       " '12hrs': 338,\n",
       " '150ppm': 370,\n",
       " 'Wa': 4424,\n",
       " 'openin': 8688,\n",
       " 'sentence': 9722,\n",
       " 'formal': 6817,\n",
       " 'Anyway': 1092,\n",
       " 'fine': 6713,\n",
       " 'juz': 7686,\n",
       " 'tt': 10723,\n",
       " 'eatin': 6392,\n",
       " 'puttin': 9220,\n",
       " 'weightHaha': 11069,\n",
       " 'anythin': 4893,\n",
       " 'happened': 7169,\n",
       " 'entered': 6471,\n",
       " 'cabin': 5440,\n",
       " 'PA': 3225,\n",
       " 'Happy': 2248,\n",
       " 'Bday': 1260,\n",
       " 'Boss': 1323,\n",
       " 'felt': 6674,\n",
       " 'She': 3780,\n",
       " 'askd': 4985,\n",
       " 'After': 1033,\n",
       " 'invited': 7543,\n",
       " 'apartment': 4902,\n",
       " 'went': 11083,\n",
       " 'winner': 11146,\n",
       " 'specially': 10047,\n",
       " 'holiday': 7292,\n",
       " 'flights': 6757,\n",
       " 'inc': 7463,\n",
       " 'operator': 8692,\n",
       " '0871277810910pmin': 123,\n",
       " '18': 387,\n",
       " 'Goodo': 2128,\n",
       " 'must': 8421,\n",
       " 'friday': 6860,\n",
       " 'eggpotato': 6416,\n",
       " 'ratio': 9280,\n",
       " 'tortilla': 10646,\n",
       " 'needed': 8480,\n",
       " 'Hmmmy': 2316,\n",
       " 'uncle': 10774,\n",
       " 'informed': 7490,\n",
       " 'paying': 8854,\n",
       " 'school': 9647,\n",
       " 'directly': 6210,\n",
       " 'pls': 8980,\n",
       " 'food': 6793,\n",
       " 'PRIVATE': 3287,\n",
       " '2004': 429,\n",
       " 'Account': 1017,\n",
       " 'Statement': 3908,\n",
       " '07742676969': 31,\n",
       " '786': 788,\n",
       " 'unredeemed': 10812,\n",
       " 'Points': 3372,\n",
       " '08719180248': 171,\n",
       " 'Identifier': 2426,\n",
       " '45239': 639,\n",
       " 'Expires': 1874,\n",
       " '£2000': 11433,\n",
       " 'Caller': 1457,\n",
       " '5903': 702,\n",
       " 'Landline': 2687,\n",
       " '09064019788': 244,\n",
       " 'BOX42WR29C': 1211,\n",
       " '150PPM': 355,\n",
       " 'applespairsall': 4916,\n",
       " 'malarky': 8119,\n",
       " 'Todays': 4164,\n",
       " 'Voda': 4338,\n",
       " 'numbers': 8598,\n",
       " 'ending': 6450,\n",
       " '7548': 783,\n",
       " '350': 566,\n",
       " 'award': 5056,\n",
       " 'match': 8157,\n",
       " 'please': 8973,\n",
       " '08712300220': 105,\n",
       " 'quoting': 9247,\n",
       " '4041': 610,\n",
       " 'standard': 10114,\n",
       " 'rates': 9278,\n",
       " 'app': 4910,\n",
       " 'sao': 9607,\n",
       " 'Will': 4502,\n",
       " 'Ü': 11464,\n",
       " 'predict': 9083,\n",
       " 'üll': 11466,\n",
       " 'buying': 5429,\n",
       " 'Good': 2123,\n",
       " 'knowyetunde': 7768,\n",
       " 'hasnt': 7184,\n",
       " 'sent': 9721,\n",
       " 'bother': 5306,\n",
       " 'sending': 9714,\n",
       " 'involve': 7547,\n",
       " 'shouldnt': 9810,\n",
       " 'imposed': 7453,\n",
       " 'apologise': 4907,\n",
       " 'HEY': 2189,\n",
       " 'GIRL': 2038,\n",
       " 'HOW': 2216,\n",
       " 'HOPE': 2209,\n",
       " 'WELL': 4368,\n",
       " 'ME': 2793,\n",
       " 'AN': 972,\n",
       " 'DEL': 1619,\n",
       " 'BAK': 1157,\n",
       " 'AGAIN': 951,\n",
       " 'LONG': 2660,\n",
       " 'TIME': 4024,\n",
       " 'GIVE': 2041,\n",
       " 'CALL': 1377,\n",
       " 'SUM': 3691,\n",
       " 'FROM': 1932,\n",
       " 'LUCYxx': 2680,\n",
       " 'Kkhow': 2606,\n",
       " 'cost': 5901,\n",
       " 'Dear': 1677,\n",
       " 'Tmorrowpls': 4156,\n",
       " 'accomodate': 4683,\n",
       " 'answer': 4876,\n",
       " 'question': 9233,\n",
       " 'Sunshine': 3950,\n",
       " 'Quiz': 3439,\n",
       " 'Wkly': 4516,\n",
       " 'Q': 3425,\n",
       " 'Win': 4503,\n",
       " 'top': 10637,\n",
       " 'Sony': 3864,\n",
       " 'DVD': 1657,\n",
       " 'player': 8965,\n",
       " 'country': 5916,\n",
       " 'Algarve': 1062,\n",
       " 'ansr': 4875,\n",
       " '82277': 827,\n",
       " 'SPTyrone': 3666,\n",
       " 'Want': 4439,\n",
       " 'laid': 7801,\n",
       " 'Dogging': 1734,\n",
       " 'locations': 7972,\n",
       " 'direct': 6209,\n",
       " 'mob': 8315,\n",
       " 'Join': 2531,\n",
       " 'UKs': 4230,\n",
       " 'largest': 7822,\n",
       " 'Network': 3062,\n",
       " 'bt': 5385,\n",
       " 'Txting': 4218,\n",
       " 'GRAVEL': 2071,\n",
       " '69888': 752,\n",
       " 'Nt': 3122,\n",
       " 'ec2a': 6395,\n",
       " '31pmsg150p': 559,\n",
       " 'haf': 7141,\n",
       " 'msn': 8391,\n",
       " 'yijuehotmailcom': 11356,\n",
       " 'rooms': 9541,\n",
       " 'befor': 5165,\n",
       " 'activities': 4706,\n",
       " 'Youll': 4631,\n",
       " 'msgs': 8384,\n",
       " 'chat': 5609,\n",
       " 'svc': 10320,\n",
       " 'Hardcore': 2250,\n",
       " 'services': 9734,\n",
       " 'GO': 2046,\n",
       " '69988': 756,\n",
       " 'Age': 1040,\n",
       " 'Verify': 4327,\n",
       " 'yr': 11390,\n",
       " 'Got': 2133,\n",
       " 'lazy': 7850,\n",
       " 'type': 10755,\n",
       " 'forgot': 6814,\n",
       " 'lect': 7864,\n",
       " 'pouch': 9050,\n",
       " 'youre': 11378,\n",
       " 'Sir': 3820,\n",
       " ...}"
      ]
     },
     "execution_count": 29,
     "metadata": {},
     "output_type": "execute_result"
    }
   ],
   "source": [
    "bow_transformer.vocabulary_"
   ]
  },
  {
   "cell_type": "code",
   "execution_count": 30,
   "id": "307b6cb0",
   "metadata": {},
   "outputs": [
    {
     "data": {
      "text/plain": [
       "11472"
      ]
     },
     "execution_count": 30,
     "metadata": {},
     "output_type": "execute_result"
    }
   ],
   "source": [
    "len(bow_transformer.vocabulary_)"
   ]
  },
  {
   "cell_type": "code",
   "execution_count": 31,
   "id": "3984297e",
   "metadata": {},
   "outputs": [
    {
     "data": {
      "text/plain": [
       "'U dun say so early hor... U c already then say...'"
      ]
     },
     "execution_count": 31,
     "metadata": {},
     "output_type": "execute_result"
    }
   ],
   "source": [
    "demoMessage = df['message'][3]\n",
    "demoMessage"
   ]
  },
  {
   "cell_type": "code",
   "execution_count": 32,
   "id": "e09927b9",
   "metadata": {},
   "outputs": [
    {
     "name": "stdout",
     "output_type": "stream",
     "text": [
      "  (0, 4221)\t2\n",
      "  (0, 4817)\t1\n",
      "  (0, 6361)\t1\n",
      "  (0, 6378)\t1\n",
      "  (0, 7324)\t1\n",
      "  (0, 9630)\t2\n"
     ]
    }
   ],
   "source": [
    "demoBow = bow_transformer.transform([demoMessage])\n",
    "print(demoBow)"
   ]
  },
  {
   "cell_type": "code",
   "execution_count": 33,
   "id": "76b2c407",
   "metadata": {},
   "outputs": [
    {
     "data": {
      "text/plain": [
       "4221"
      ]
     },
     "execution_count": 33,
     "metadata": {},
     "output_type": "execute_result"
    }
   ],
   "source": [
    "bow_transformer.vocabulary_['U']"
   ]
  },
  {
   "cell_type": "code",
   "execution_count": 34,
   "id": "865ba90c",
   "metadata": {},
   "outputs": [
    {
     "data": {
      "text/plain": [
       "9630"
      ]
     },
     "execution_count": 34,
     "metadata": {},
     "output_type": "execute_result"
    }
   ],
   "source": [
    "bow_transformer.vocabulary_['say']"
   ]
  },
  {
   "cell_type": "code",
   "execution_count": 35,
   "id": "a47936ce",
   "metadata": {},
   "outputs": [],
   "source": [
    "messagesBow = bow_transformer.transform(df['message'])"
   ]
  },
  {
   "cell_type": "code",
   "execution_count": 36,
   "id": "c3437fab",
   "metadata": {},
   "outputs": [
    {
     "data": {
      "text/plain": [
       "(5572, 11472)"
      ]
     },
     "execution_count": 36,
     "metadata": {},
     "output_type": "execute_result"
    }
   ],
   "source": [
    "messagesBow.shape"
   ]
  },
  {
   "cell_type": "markdown",
   "id": "0f75a98e",
   "metadata": {},
   "source": [
    "# TF - IDF"
   ]
  },
  {
   "cell_type": "markdown",
   "id": "98d61d0c",
   "metadata": {},
   "source": [
    "Term Frequency: number of times a term occurs in the df / total terms in the df\n",
    "\n",
    "Inverse Document Frequency: log_e(total rows/rows with that term in it)"
   ]
  },
  {
   "cell_type": "code",
   "execution_count": 37,
   "id": "17fdc7dc",
   "metadata": {},
   "outputs": [],
   "source": [
    "from sklearn.feature_extraction.text import TfidfTransformer"
   ]
  },
  {
   "cell_type": "code",
   "execution_count": 38,
   "id": "4f23e9bb",
   "metadata": {},
   "outputs": [],
   "source": [
    "tfidfTransformer = TfidfTransformer().fit(messagesBow)"
   ]
  },
  {
   "cell_type": "code",
   "execution_count": 39,
   "id": "3c397974",
   "metadata": {},
   "outputs": [],
   "source": [
    "demoTfidf = tfidfTransformer.transform(demoBow)"
   ]
  },
  {
   "cell_type": "code",
   "execution_count": 41,
   "id": "165e2b11",
   "metadata": {},
   "outputs": [
    {
     "name": "stdout",
     "output_type": "stream",
     "text": [
      "  (0, 4221)\t2\n",
      "  (0, 4817)\t1\n",
      "  (0, 6361)\t1\n",
      "  (0, 6378)\t1\n",
      "  (0, 7324)\t1\n",
      "  (0, 9630)\t2\n"
     ]
    }
   ],
   "source": [
    "print(demoBow)"
   ]
  },
  {
   "cell_type": "code",
   "execution_count": 40,
   "id": "c9fd8795",
   "metadata": {},
   "outputs": [
    {
     "name": "stdout",
     "output_type": "stream",
     "text": [
      "  (0, 9630)\t0.5640673550325177\n",
      "  (0, 7324)\t0.45972329929679995\n",
      "  (0, 6378)\t0.33381540325145387\n",
      "  (0, 6361)\t0.31372322843166084\n",
      "  (0, 4817)\t0.2788043677671387\n",
      "  (0, 4221)\t0.42766300293424464\n"
     ]
    }
   ],
   "source": [
    "print(demoTfidf)"
   ]
  },
  {
   "cell_type": "code",
   "execution_count": 44,
   "id": "62f1d615",
   "metadata": {},
   "outputs": [],
   "source": [
    "messagesTfidf = tfidfTransformer.transform(messagesBow)"
   ]
  },
  {
   "cell_type": "code",
   "execution_count": 45,
   "id": "7addc034",
   "metadata": {},
   "outputs": [
    {
     "data": {
      "text/plain": [
       "(5572, 11472)"
      ]
     },
     "execution_count": 45,
     "metadata": {},
     "output_type": "execute_result"
    }
   ],
   "source": [
    "messagesTfidf.shape"
   ]
  },
  {
   "cell_type": "markdown",
   "id": "eb4460fb",
   "metadata": {},
   "source": [
    "# Classification"
   ]
  },
  {
   "cell_type": "code",
   "execution_count": 46,
   "id": "23e0b118",
   "metadata": {},
   "outputs": [],
   "source": [
    "from sklearn.naive_bayes import MultinomialNB"
   ]
  },
  {
   "cell_type": "code",
   "execution_count": 47,
   "id": "5afccae9",
   "metadata": {},
   "outputs": [],
   "source": [
    "model = MultinomialNB().fit(messagesTfidf, df['label'])"
   ]
  },
  {
   "cell_type": "code",
   "execution_count": 48,
   "id": "ddbb9293",
   "metadata": {},
   "outputs": [
    {
     "data": {
      "text/plain": [
       "array(['ham'], dtype='<U4')"
      ]
     },
     "execution_count": 48,
     "metadata": {},
     "output_type": "execute_result"
    }
   ],
   "source": [
    "model.predict(demoTfidf)"
   ]
  },
  {
   "cell_type": "code",
   "execution_count": 49,
   "id": "be0d210d",
   "metadata": {},
   "outputs": [],
   "source": [
    "predictions = model.predict(messagesTfidf)"
   ]
  },
  {
   "cell_type": "code",
   "execution_count": 50,
   "id": "e7953dd4",
   "metadata": {},
   "outputs": [],
   "source": [
    "from sklearn.metrics import classification_report"
   ]
  },
  {
   "cell_type": "code",
   "execution_count": 51,
   "id": "6330372c",
   "metadata": {},
   "outputs": [
    {
     "name": "stdout",
     "output_type": "stream",
     "text": [
      "              precision    recall  f1-score   support\n",
      "\n",
      "         ham       0.98      1.00      0.99      4825\n",
      "        spam       1.00      0.85      0.92       747\n",
      "\n",
      "    accuracy                           0.98      5572\n",
      "   macro avg       0.99      0.93      0.95      5572\n",
      "weighted avg       0.98      0.98      0.98      5572\n",
      "\n"
     ]
    }
   ],
   "source": [
    "print(classification_report(df['label'], predictions))"
   ]
  },
  {
   "cell_type": "markdown",
   "id": "58617eca",
   "metadata": {},
   "source": [
    "# Pipeline"
   ]
  },
  {
   "cell_type": "code",
   "execution_count": 52,
   "id": "c682d384",
   "metadata": {},
   "outputs": [],
   "source": [
    "from sklearn.pipeline import Pipeline"
   ]
  },
  {
   "cell_type": "code",
   "execution_count": 53,
   "id": "aa76b9ae",
   "metadata": {},
   "outputs": [],
   "source": [
    "pipe = Pipeline([\n",
    "    ('bow', CountVectorizer(analyzer=textFiltering)),\n",
    "    ('tfidf', TfidfTransformer()),\n",
    "    ('classifier', MultinomialNB())\n",
    "])"
   ]
  },
  {
   "cell_type": "code",
   "execution_count": 54,
   "id": "42957274",
   "metadata": {},
   "outputs": [
    {
     "data": {
      "text/plain": [
       "Pipeline(steps=[('bow',\n",
       "                 CountVectorizer(analyzer=<function textFiltering at 0x120880f70>)),\n",
       "                ('tfidf', TfidfTransformer()),\n",
       "                ('classifier', MultinomialNB())])"
      ]
     },
     "execution_count": 54,
     "metadata": {},
     "output_type": "execute_result"
    }
   ],
   "source": [
    "pipe.fit(df['message'], df['label'])"
   ]
  },
  {
   "cell_type": "code",
   "execution_count": null,
   "id": "28c52ddf",
   "metadata": {},
   "outputs": [],
   "source": []
  }
 ],
 "metadata": {
  "kernelspec": {
   "display_name": "Python 3 (ipykernel)",
   "language": "python",
   "name": "python3"
  },
  "language_info": {
   "codemirror_mode": {
    "name": "ipython",
    "version": 3
   },
   "file_extension": ".py",
   "mimetype": "text/x-python",
   "name": "python",
   "nbconvert_exporter": "python",
   "pygments_lexer": "ipython3",
   "version": "3.9.7"
  }
 },
 "nbformat": 4,
 "nbformat_minor": 5
}
