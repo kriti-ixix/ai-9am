{
 "cells": [
  {
   "cell_type": "code",
   "execution_count": 18,
   "id": "6cfd1bda",
   "metadata": {},
   "outputs": [],
   "source": [
    "from random import choice\n",
    "\n",
    "listOfMovies = [\"shang chi\", \"shershah\", \"3 idiots\", \"tiger zinda hai\", \"dangal\"]"
   ]
  },
  {
   "cell_type": "code",
   "execution_count": 19,
   "id": "97ac2146",
   "metadata": {},
   "outputs": [
    {
     "data": {
      "text/plain": [
       "'shang chi'"
      ]
     },
     "execution_count": 19,
     "metadata": {},
     "output_type": "execute_result"
    }
   ],
   "source": [
    "movieChosen = choice(listOfMovies)\n",
    "movieChosen"
   ]
  },
  {
   "cell_type": "code",
   "execution_count": 20,
   "id": "e9372137",
   "metadata": {},
   "outputs": [
    {
     "name": "stdout",
     "output_type": "stream",
     "text": [
      "s\n",
      "h\n",
      "a\n",
      "n\n",
      "g\n",
      " \n",
      "c\n",
      "h\n",
      "i\n"
     ]
    }
   ],
   "source": [
    "for i in movieChosen:\n",
    "    print(i)"
   ]
  },
  {
   "cell_type": "code",
   "execution_count": 21,
   "id": "1cfec7cc",
   "metadata": {},
   "outputs": [],
   "source": [
    "#d a n g a l"
   ]
  },
  {
   "cell_type": "code",
   "execution_count": 22,
   "id": "b6efe534",
   "metadata": {},
   "outputs": [],
   "source": [
    "#_ _ _ _ _ _"
   ]
  },
  {
   "cell_type": "code",
   "execution_count": 23,
   "id": "6e8dcf03",
   "metadata": {},
   "outputs": [
    {
     "name": "stdout",
     "output_type": "stream",
     "text": [
      "_ _ _ _ _ _ _ _ _ \n"
     ]
    }
   ],
   "source": [
    "print(\"_ \" * len(movieChosen))"
   ]
  },
  {
   "cell_type": "code",
   "execution_count": 24,
   "id": "307f9a57",
   "metadata": {},
   "outputs": [
    {
     "name": "stdout",
     "output_type": "stream",
     "text": [
      "_ _ _ _ _  _ _ _ "
     ]
    }
   ],
   "source": [
    "for i in movieChosen:\n",
    "    if i==' ':\n",
    "        print(\" \", end=\"\")\n",
    "    else:\n",
    "        print(\"_ \", end=\"\")"
   ]
  },
  {
   "cell_type": "code",
   "execution_count": 25,
   "id": "c41f4e7f",
   "metadata": {},
   "outputs": [],
   "source": [
    "correctGuess = ['3', 'i']\n",
    "wrongGuess = []"
   ]
  },
  {
   "cell_type": "code",
   "execution_count": 26,
   "id": "3e9d0ea4",
   "metadata": {},
   "outputs": [
    {
     "name": "stdout",
     "output_type": "stream",
     "text": [
      "_ _ _ _ _  _ _ i "
     ]
    }
   ],
   "source": [
    "for i in movieChosen:\n",
    "    if i==' ':\n",
    "        print(\" \", end=\"\")\n",
    "    elif i in correctGuess:\n",
    "        print(i, end=\" \")\n",
    "    else:\n",
    "        print(\"_ \", end=\"\")"
   ]
  },
  {
   "cell_type": "code",
   "execution_count": 27,
   "id": "a0fc497f",
   "metadata": {},
   "outputs": [
    {
     "name": "stdout",
     "output_type": "stream",
     "text": [
      "Enter a character: a\n"
     ]
    }
   ],
   "source": [
    "userGuess = input(\"Enter a character: \")"
   ]
  },
  {
   "cell_type": "code",
   "execution_count": 28,
   "id": "b3f45c82",
   "metadata": {},
   "outputs": [
    {
     "name": "stdout",
     "output_type": "stream",
     "text": [
      "Your guess was correct\n"
     ]
    }
   ],
   "source": [
    "if userGuess in movieChosen:\n",
    "    correctGuess.append(userGuess)\n",
    "    print(\"Your guess was correct\")\n",
    "else:\n",
    "    wrongGuess.append(userGuess)\n",
    "    print(\"Your guess was incorrect\")"
   ]
  },
  {
   "cell_type": "code",
   "execution_count": 29,
   "id": "c5c4f7f0",
   "metadata": {},
   "outputs": [
    {
     "data": {
      "text/plain": [
       "['3', 'i', 'a']"
      ]
     },
     "execution_count": 29,
     "metadata": {},
     "output_type": "execute_result"
    }
   ],
   "source": [
    "correctGuess"
   ]
  },
  {
   "cell_type": "code",
   "execution_count": 30,
   "id": "2c94ff28",
   "metadata": {},
   "outputs": [
    {
     "name": "stdout",
     "output_type": "stream",
     "text": [
      "_ _ a _ _  _ _ i "
     ]
    }
   ],
   "source": [
    "for i in movieChosen:\n",
    "    if i==' ':\n",
    "        print(\" \", end=\"\")\n",
    "    elif i in correctGuess:\n",
    "        print(i, end=\" \")\n",
    "    else:\n",
    "        print(\"_ \", end=\"\")"
   ]
  },
  {
   "cell_type": "code",
   "execution_count": null,
   "id": "de0934ee",
   "metadata": {},
   "outputs": [],
   "source": []
  }
 ],
 "metadata": {
  "kernelspec": {
   "display_name": "Python 3 (ipykernel)",
   "language": "python",
   "name": "python3"
  },
  "language_info": {
   "codemirror_mode": {
    "name": "ipython",
    "version": 3
   },
   "file_extension": ".py",
   "mimetype": "text/x-python",
   "name": "python",
   "nbconvert_exporter": "python",
   "pygments_lexer": "ipython3",
   "version": "3.9.7"
  }
 },
 "nbformat": 4,
 "nbformat_minor": 5
}
